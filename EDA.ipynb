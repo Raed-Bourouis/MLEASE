{
 "cells": [
  {
   "cell_type": "code",
   "execution_count": 1,
   "metadata": {},
   "outputs": [
    {
     "ename": "ModuleNotFoundError",
     "evalue": "No module named 'seaborn'",
     "output_type": "error",
     "traceback": [
      "\u001b[1;31m---------------------------------------------------------------------------\u001b[0m",
      "\u001b[1;31mModuleNotFoundError\u001b[0m                       Traceback (most recent call last)",
      "Cell \u001b[1;32mIn[1], line 23\u001b[0m\n\u001b[0;32m      1\u001b[0m \u001b[38;5;66;03m# ---\u001b[39;00m\n\u001b[0;32m      2\u001b[0m \u001b[38;5;66;03m# jupyter:\u001b[39;00m\n\u001b[0;32m      3\u001b[0m \u001b[38;5;66;03m#   jupytext:\u001b[39;00m\n\u001b[1;32m   (...)\u001b[0m\n\u001b[0;32m     20\u001b[0m \n\u001b[0;32m     21\u001b[0m \u001b[38;5;66;03m# %%\u001b[39;00m\n\u001b[0;32m     22\u001b[0m \u001b[38;5;28;01mimport\u001b[39;00m\u001b[38;5;250m \u001b[39m\u001b[38;5;21;01mpandas\u001b[39;00m\u001b[38;5;250m \u001b[39m\u001b[38;5;28;01mas\u001b[39;00m\u001b[38;5;250m \u001b[39m\u001b[38;5;21;01mpd\u001b[39;00m\n\u001b[1;32m---> 23\u001b[0m \u001b[38;5;28;01mimport\u001b[39;00m\u001b[38;5;250m \u001b[39m\u001b[38;5;21;01mseaborn\u001b[39;00m\u001b[38;5;250m \u001b[39m\u001b[38;5;28;01mas\u001b[39;00m\u001b[38;5;250m \u001b[39m\u001b[38;5;21;01msns\u001b[39;00m\n\u001b[0;32m     24\u001b[0m \u001b[38;5;28;01mimport\u001b[39;00m\u001b[38;5;250m \u001b[39m\u001b[38;5;21;01mmatplotlib\u001b[39;00m\u001b[38;5;21;01m.\u001b[39;00m\u001b[38;5;21;01mpyplot\u001b[39;00m\u001b[38;5;250m \u001b[39m\u001b[38;5;28;01mas\u001b[39;00m\u001b[38;5;250m \u001b[39m\u001b[38;5;21;01mplt\u001b[39;00m\n\u001b[0;32m     25\u001b[0m \u001b[38;5;28;01mfrom\u001b[39;00m\u001b[38;5;250m \u001b[39m\u001b[38;5;21;01mstatsmodels\u001b[39;00m\u001b[38;5;21;01m.\u001b[39;00m\u001b[38;5;21;01mtsa\u001b[39;00m\u001b[38;5;21;01m.\u001b[39;00m\u001b[38;5;21;01mseasonal\u001b[39;00m\u001b[38;5;250m \u001b[39m\u001b[38;5;28;01mimport\u001b[39;00m seasonal_decompose\n",
      "\u001b[1;31mModuleNotFoundError\u001b[0m: No module named 'seaborn'"
     ]
    }
   ],
   "source": [
    "# ---\n",
    "# jupyter:\n",
    "#   jupytext:\n",
    "#     formats: ipynb,py:percent\n",
    "#     text_representation:\n",
    "#       extension: .py\n",
    "#       format_name: percent\n",
    "#       format_version: '1.3'\n",
    "#       jupytext_version: 1.15.2\n",
    "#   kernelspec:\n",
    "#     display_name: Python 3 (ipykernel)\n",
    "#     language: python\n",
    "#     name: python3\n",
    "# ---\n",
    "\n",
    "# %% [markdown]\n",
    "# # Time Series Exploratory Data Analysis (EDA) \n",
    "\n",
    "# This notebook provides a comprehensive EDA for time series data, including detailed seasonality investigation.\n",
    "\n",
    "# %%\n",
    "import pandas as pd\n",
    "import seaborn as sns\n",
    "import matplotlib.pyplot as plt\n",
    "from statsmodels.tsa.seasonal import seasonal_decompose\n",
    "from statsmodels.graphics.tsaplots import plot_acf, plot_pacf\n",
    "from statsmodels.tsa.stattools import adfuller\n",
    "import statsmodels.api as sm\n"
   ]
  },
  {
   "cell_type": "markdown",
   "metadata": {},
   "source": [
    "# %%\n",
    "# Load your time series data\n",
    "# Replace 'your_data.csv' with the actual path to your data file"
   ]
  },
  {
   "cell_type": "code",
   "execution_count": null,
   "metadata": {},
   "outputs": [],
   "source": [
    "df = pd.read_csv('your_data.csv', index_col='Date', parse_dates=True) "
   ]
  },
  {
   "cell_type": "code",
   "execution_count": null,
   "metadata": {},
   "outputs": [],
   "source": [
    "# %%\n",
    "# Basic Data Exploration\n",
    "print(df.head())\n",
    "print(df.info())\n",
    "print(df.describe())"
   ]
  },
  {
   "cell_type": "code",
   "execution_count": null,
   "metadata": {},
   "outputs": [],
   "source": [
    "# %%\n",
    "# Visualize the Time Series\n",
    "plt.figure(figsize=(12, 6))\n",
    "plt.plot(df)\n",
    "plt.title('Time Series Plot')\n",
    "plt.xlabel('Date')\n",
    "plt.ylabel('Value')\n",
    "plt.show()"
   ]
  },
  {
   "cell_type": "code",
   "execution_count": null,
   "metadata": {},
   "outputs": [],
   "source": [
    "# %%\n",
    "# Check for Stationarity (Visual Inspection)\n",
    "# Plot the rolling mean and standard deviation\n",
    "rolling_mean = df.rolling(window=12).mean()  # Adjust window size as needed\n",
    "rolling_std = df.rolling(window=12).std()\n",
    "\n",
    "plt.figure(figsize=(12, 6))\n",
    "plt.plot(df, color='blue', label='Original')\n",
    "plt.plot(rolling_mean, color='red', label='Rolling Mean')\n",
    "plt.plot(rolling_std, color='green', label='Rolling Std')\n",
    "plt.legend(loc='best')\n",
    "plt.title('Rolling Statistics')\n",
    "plt.show()\n"
   ]
  },
  {
   "cell_type": "code",
   "execution_count": null,
   "metadata": {},
   "outputs": [],
   "source": [
    "# %%\n",
    "# Decompose Time Series (if applicable)\n",
    "decomposition = seasonal_decompose(df, model='additive', period=12)  # Adjust period as needed\n",
    "\n",
    "plt.figure(figsize=(12, 8))\n",
    "plt.subplot(411)\n",
    "plt.plot(df, label='Original')\n",
    "plt.legend(loc='best')\n",
    "plt.subplot(412)\n",
    "plt.plot(decomposition.trend, label='Trend')\n",
    "plt.legend(loc='best')\n",
    "plt.subplot(413)\n",
    "plt.plot(decomposition.seasonal, label='Seasonality')\n",
    "plt.legend(loc='best')\n",
    "plt.subplot(414)\n",
    "plt.plot(decomposition.resid, label='Residuals')\n",
    "plt.legend(loc='best')\n",
    "plt.tight_layout()\n",
    "plt.show()\n"
   ]
  },
  {
   "cell_type": "code",
   "execution_count": null,
   "metadata": {},
   "outputs": [],
   "source": [
    "# %%\n",
    "# Investigate Seasonality Patterns\n",
    "df['month'] = df.index.month\n",
    "fig, ax = plt.subplots(figsize=(10, 6))\n",
    "sns.boxplot(x='month', y='Value', data=df, ax=ax)\n",
    "ax.set_title('Seasonal Boxplot (Monthly)')\n",
    "plt.show()\n",
    "\n",
    "# %%\n",
    "# Autocorrelation and Partial Autocorrelation Functions (ACF and PACF)\n",
    "plt.figure(figsize=(12, 6))\n",
    "plt.subplot(121)\n",
    "plot_acf(df, lags=40)\n",
    "plt.subplot(122)\n",
    "plot_pacf(df, lags=40)\n",
    "plt.show()\n"
   ]
  },
  {
   "cell_type": "code",
   "execution_count": null,
   "metadata": {},
   "outputs": [],
   "source": [
    "# %%\n",
    "# Check for Stationarity (Dickey-Fuller Test)\n",
    "def stationarity_test(timeseries):\n",
    "    \"\"\"\n",
    "    Performs the Dickey-Fuller test to check for stationarity.\n",
    "\n",
    "    Args:\n",
    "      timeseries: The time series data.\n",
    "\n",
    "    Returns:\n",
    "      A tuple containing the test statistic, p-value, lags used, \n",
    "      number of observations used, critical values, and the \n",
    "      results of the test (whether the series is stationary or not).\n",
    "    \"\"\"\n",
    "    print('Results of Dickey-Fuller Test:')\n",
    "    dftest = adfuller(timeseries, autolag='AIC')\n",
    "    dfoutput = pd.Series(dftest[0:4], index=['Test Statistic',\n",
    "                                         'p-value',\n",
    "                                         '#Lags Used',\n",
    "                                         'Number of Observations Used'])\n",
    "    for key, value in dftest[4].items():\n",
    "        dfoutput['Critical Value (%s)'%key] = value\n",
    "    print(dfoutput)\n",
    "\n",
    "    if dftest[1] <= 0.05:\n",
    "        print(\"Conclusion: Series is likely stationary.\")\n",
    "    else:\n",
    "        print(\"Conclusion: Series is likely non-stationary.\")\n",
    "        # %%\n",
    "        # Differencing to achieve stationarity\n",
    "        df['Value_diff'] = df['Value'].diff().dropna()\n",
    "        stationarity_test(df['Value_diff'].dropna())\n",
    "\n",
    "        plt.figure(figsize=(12,6))\n",
    "        plt.plot(df['Value_diff'], label='Differenced Data')\n",
    "        plt.title('First Order Differencing')\n",
    "        plt.legend()\n",
    "        plt.show()\n",
    "\n",
    "stationarity_test(df['Value']) \n",
    "\n"
   ]
  },
  {
   "cell_type": "code",
   "execution_count": null,
   "metadata": {},
   "outputs": [],
   "source": [
    "# %%\n",
    "# Fit ARIMA Model\n",
    "model = sm.tsa.ARIMA(df['Value'].dropna(), order=(1,1,1))\n",
    "result = model.fit()\n",
    "print(result.summary())"
   ]
  },
  {
   "cell_type": "code",
   "execution_count": null,
   "metadata": {},
   "outputs": [],
   "source": [
    "# %%\n",
    "# Forecasting\n",
    "forecast_steps = 12\n",
    "forecast = result.forecast(steps=forecast_steps)\n",
    "plt.figure(figsize=(12,6))\n",
    "plt.plot(df['Value'], label='Historical Data')\n",
    "plt.plot(pd.date_range(df.index[-1], periods=forecast_steps, freq='M'), forecast, label='Forecast', color='red')\n",
    "plt.legend()\n",
    "plt.title('Forecasting Future Values')\n",
    "plt.show()"
   ]
  },
  {
   "cell_type": "code",
   "execution_count": null,
   "metadata": {},
   "outputs": [],
   "source": []
  }
 ],
 "metadata": {
  "kernelspec": {
   "display_name": "Python 3",
   "language": "python",
   "name": "python3"
  },
  "language_info": {
   "codemirror_mode": {
    "name": "ipython",
    "version": 3
   },
   "file_extension": ".py",
   "mimetype": "text/x-python",
   "name": "python",
   "nbconvert_exporter": "python",
   "pygments_lexer": "ipython3",
   "version": "3.12.4"
  }
 },
 "nbformat": 4,
 "nbformat_minor": 2
}
