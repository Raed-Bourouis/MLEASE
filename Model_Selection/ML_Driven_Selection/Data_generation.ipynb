{
 "cells": [
  {
   "cell_type": "markdown",
   "metadata": {},
   "source": [
    "this python notebook is used to generate the data for the model selection project"
   ]
  },
  {
   "cell_type": "code",
   "execution_count": null,
   "metadata": {},
   "outputs": [],
   "source": [
    "import numpy as np\n",
    "import pandas as pd\n",
    "from sklearn.metrics import mean_squared_error\n",
    "'''Uncomment this line to import the training functions'''\n",
    "# from some_module import train_sarima, train_xgboost, train_prophet, train_lstm  # Assume you have these functions\n"
   ]
  },
  {
   "cell_type": "code",
   "execution_count": null,
   "metadata": {},
   "outputs": [
    {
     "ename": "NameError",
     "evalue": "name 'dataset_list' is not defined",
     "output_type": "error",
     "traceback": [
      "\u001b[1;31m---------------------------------------------------------------------------\u001b[0m",
      "\u001b[1;31mNameError\u001b[0m                                 Traceback (most recent call last)",
      "Cell \u001b[1;32mIn[1], line 31\u001b[0m\n\u001b[0;32m     29\u001b[0m \u001b[38;5;66;03m# Example: Apply to multiple datasets\u001b[39;00m\n\u001b[0;32m     30\u001b[0m results \u001b[38;5;241m=\u001b[39m []\n\u001b[1;32m---> 31\u001b[0m \u001b[38;5;28;01mfor\u001b[39;00m dataset \u001b[38;5;129;01min\u001b[39;00m \u001b[43mdataset_list\u001b[49m:  \u001b[38;5;66;03m# Assume you have multiple time series datasets\u001b[39;00m\n\u001b[0;32m     32\u001b[0m     best_model, rmse_scores \u001b[38;5;241m=\u001b[39m evaluate_models(dataset, target_col\u001b[38;5;241m=\u001b[39m\u001b[38;5;124m\"\u001b[39m\u001b[38;5;124mvalue\u001b[39m\u001b[38;5;124m\"\u001b[39m)\n\u001b[0;32m     34\u001b[0m     \u001b[38;5;66;03m# Extract features\u001b[39;00m\n",
      "\u001b[1;31mNameError\u001b[0m: name 'dataset_list' is not defined"
     ]
    }
   ],
   "source": [
    "def evaluate_models(df, target_col):\n",
    "    \"\"\"\n",
    "    Train all models and evaluate their performance.\n",
    "    Returns the best model name based on RMSE.\n",
    "    \"\"\"\n",
    "    # Train models\n",
    "    predictions = {\n",
    "        \"SARIMA\": train_sarima(df, target_col),\n",
    "        \"XGBoost\": train_xgboost(df, target_col),\n",
    "        \"Prophet\": train_prophet(df, target_col),\n",
    "        \"LSTM\": train_lstm(df, target_col)\n",
    "    }\n",
    "    \n",
    "    # Compute RMSE for each model\n",
    "    rmse_scores = {model: mean_squared_error(df[target_col], pred, squared=False) for model, pred in predictions.items()}\n",
    "    \n",
    "    # Select the model with the lowest RMSE\n",
    "    best_model = min(rmse_scores, key=rmse_scores.get)\n",
    "    \n",
    "    return best_model, rmse_scores\n",
    "\n",
    "'''\n",
    "\n",
    "Features : p-value, correlation-coefficient, stationariity test\n",
    "Target : LSTM, pr , xbg, sarima\n",
    "\n",
    "'''\n",
    "\n",
    "# Example: Apply to multiple datasets\n",
    "results = []\n",
    "for dataset in dataset_list:  # Assume you have multiple time series datasets\n",
    "    best_model, rmse_scores = evaluate_models(dataset, target_col=\"value\")\n",
    "    \n",
    "    # Extract features\n",
    "    features = extract_features(dataset, target_col=\"value\")  # Use the feature extraction function we discussed earlier\n",
    "    \n",
    "    # Store in labeled dataset\n",
    "    results.append(features + [best_model])  # Append the label\n",
    "\n",
    "# Convert to DataFrame\n",
    "columns = feature_names + [\"best_model\"]\n",
    "meta_learning_dataset = pd.DataFrame(results, columns=columns)\n"
   ]
  },
  {
   "cell_type": "code",
   "execution_count": null,
   "metadata": {},
   "outputs": [],
   "source": []
  }
 ],
 "metadata": {
  "kernelspec": {
   "display_name": "Python 3",
   "language": "python",
   "name": "python3"
  },
  "language_info": {
   "codemirror_mode": {
    "name": "ipython",
    "version": 3
   },
   "file_extension": ".py",
   "mimetype": "text/x-python",
   "name": "python",
   "nbconvert_exporter": "python",
   "pygments_lexer": "ipython3",
   "version": "3.11.9"
  }
 },
 "nbformat": 4,
 "nbformat_minor": 2
}
