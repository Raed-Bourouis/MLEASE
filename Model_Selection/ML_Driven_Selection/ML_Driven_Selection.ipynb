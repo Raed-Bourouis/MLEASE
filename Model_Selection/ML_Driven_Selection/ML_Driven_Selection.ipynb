{
 "cells": [
  {
   "cell_type": "markdown",
   "metadata": {},
   "source": [
    "This is another approach, where the model selection is based on a pre-trained model, trained on past datasets decisions.\n",
    "this approach is benched for now, due to lack of valuable data"
   ]
  },
  {
   "cell_type": "code",
   "execution_count": null,
   "metadata": {},
   "outputs": [],
   "source": [
    "import numpy as np\n",
    "import pandas as pd\n",
    "from statsmodels.tsa.stattools import adfuller, kpss\n",
    "from scipy.stats import entropy\n",
    "from sklearn.ensemble import RandomForestClassifier\n"
   ]
  },
  {
   "cell_type": "code",
   "execution_count": null,
   "metadata": {},
   "outputs": [],
   "source": [
    "# Function to extract features from time series\n",
    "def extract_features(df, target_col):\n",
    "    series = df[target_col]\n",
    "    \n",
    "    # Stationarity Tests\n",
    "    adf_p = adfuller(series)[1]  # ADF Test p-value\n",
    "    kpss_p = kpss(series, regression=\"c\")[1]  # KPSS Test p-value\n",
    "    \n",
    "    # Entropy (Complexity Measure)\n",
    "    approx_entropy = entropy(np.histogram(series, bins=10)[0])\n",
    "    \n",
    "    # Auto-correlation & Seasonality\n",
    "    autocorr_lag1 = series.autocorr(lag=1)\n",
    "    autocorr_lag12 = series.autocorr(lag=12)\n",
    "    \n",
    "    # Variance stability\n",
    "    rolling_var = series.rolling(window=12).var().mean()\n",
    "    \n",
    "    return [adf_p, kpss_p, approx_entropy, autocorr_lag1, autocorr_lag12, rolling_var]\n",
    "\n",
    "# Example: Train a meta-model on past datasets\n",
    "X_train = []  # Feature matrix\n",
    "y_train = []  # Model labels\n",
    "\n",
    "for dataset, best_model in past_datasets:  # Assume past_datasets is pre-collected\n",
    "    X_train.append(extract_features(dataset, target_col=\"value\"))\n",
    "    y_train.append(best_model)\n",
    "\n",
    "# Train the meta-learning classifier\n",
    "clf = RandomForestClassifier()\n",
    "clf.fit(X_train, y_train)\n",
    "\n",
    "# Predict the best model for a new dataset\n",
    "new_features = extract_features(df, target_col=\"value\")\n",
    "selected_model = clf.predict([new_features])[0]\n",
    "\n",
    "print(f\"Selected Model: {selected_model}\")\n"
   ]
  }
 ],
 "metadata": {
  "language_info": {
   "name": "python"
  }
 },
 "nbformat": 4,
 "nbformat_minor": 2
}
