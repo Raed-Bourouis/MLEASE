{
 "cells": [
  {
   "cell_type": "code",
   "execution_count": 4,
   "metadata": {},
   "outputs": [],
   "source": [
    "import warnings\n",
    "warnings.filterwarnings('ignore')\n",
    "import sys\n",
    "sys.path.append(\"../\")\n",
    "\n"
   ]
  },
  {
   "cell_type": "code",
   "execution_count": null,
   "metadata": {},
   "outputs": [],
   "source": [
    "import pandas as pd\n",
    "from prophet import Prophet\n",
    "import matplotlib.pyplot as plt\n",
    "from sklearn.model_selection import TimeSeriesSplit\n",
    "from utils.Read_csv import Read_csv\n",
    "%matplotlib inline\n"
   ]
  },
  {
   "cell_type": "code",
   "execution_count": null,
   "metadata": {},
   "outputs": [],
   "source": [
    "\n",
    "\n",
    "\n"
   ]
  },
  {
   "cell_type": "code",
   "execution_count": 10,
   "metadata": {},
   "outputs": [
    {
     "name": "stdout",
     "output_type": "stream",
     "text": [
      "Set 'date' as the datetime index.\n"
     ]
    },
    {
     "data": {
      "application/vnd.microsoft.datawrangler.viewer.v0+json": {
       "columns": [
        {
         "name": "index",
         "rawType": "int64",
         "type": "integer"
        },
        {
         "name": "ds",
         "rawType": "datetime64[ns]",
         "type": "datetime"
        },
        {
         "name": "beer",
         "rawType": "float64",
         "type": "float"
        }
       ],
       "conversionMethod": "pd.DataFrame",
       "ref": "f0d46ce3-bbd5-4fec-919f-6b118f14ae93",
       "rows": [
        [
         "0",
         "1992-01-01 00:00:00",
         "2.5761692666293063"
        ],
        [
         "1",
         "1992-02-01 00:00:00",
         "0.0213441303585232"
        ],
        [
         "2",
         "1992-03-01 00:00:00",
         "0.0628578766486375"
        ],
        [
         "3",
         "1992-04-01 00:00:00",
         "0.1009121440812423"
        ],
        [
         "4",
         "1992-05-01 00:00:00",
         "0.2202641646653208"
        ],
        [
         "5",
         "1992-06-01 00:00:00",
         "-0.1153052845131029"
        ],
        [
         "6",
         "1992-07-01 00:00:00",
         "0.2029667703777732"
        ],
        [
         "7",
         "1992-08-01 00:00:00",
         "-0.1204945027993672"
        ],
        [
         "8",
         "1992-09-01 00:00:00",
         "-0.1931435588070671"
        ],
        [
         "9",
         "1992-10-01 00:00:00",
         "0.1597232846589042"
        ],
        [
         "10",
         "1992-11-01 00:00:00",
         "-0.1222242422281219"
        ],
        [
         "11",
         "1992-12-01 00:00:00",
         "1.1422152801916088"
        ],
        [
         "12",
         "1993-01-01 00:00:00",
         "-1.5855837989546504"
        ],
        [
         "13",
         "1993-02-01 00:00:00",
         "-0.1810353828057838"
        ],
        [
         "14",
         "1993-03-01 00:00:00",
         "0.2237236435228303"
        ],
        [
         "15",
         "1993-04-01 00:00:00",
         "0.0265333486447875"
        ],
        [
         "16",
         "1993-05-01 00:00:00",
         "0.1095608412250161"
        ],
        [
         "17",
         "1993-06-01 00:00:00",
         "-0.0409264890766481"
        ],
        [
         "18",
         "1993-07-01 00:00:00",
         "0.2392912983816232"
        ],
        [
         "19",
         "1993-08-01 00:00:00",
         "-0.3332524525362029"
        ],
        [
         "20",
         "1993-09-01 00:00:00",
         "-0.1550892913744624"
        ],
        [
         "21",
         "1993-10-01 00:00:00",
         "0.0524794400761089"
        ],
        [
         "22",
         "1993-11-01 00:00:00",
         "0.0092359543572399"
        ],
        [
         "23",
         "1993-12-01 00:00:00",
         "1.1093502310452683"
        ],
        [
         "24",
         "1994-01-01 00:00:00",
         "-1.5821243200971409"
        ],
        [
         "25",
         "1994-02-01 00:00:00",
         "-0.1083863267980838"
        ],
        [
         "26",
         "1994-03-01 00:00:00",
         "0.327508009248116"
        ],
        [
         "27",
         "1994-04-01 00:00:00",
         "0.0403712640748256"
        ],
        [
         "28",
         "1994-05-01 00:00:00",
         "0.0922634469374684"
        ],
        [
         "29",
         "1994-06-01 00:00:00",
         "0.0126954332147494"
        ],
        [
         "30",
         "1994-07-01 00:00:00",
         "0.1804801578039613"
        ],
        [
         "31",
         "1994-08-01 00:00:00",
         "-0.2467654810984648"
        ],
        [
         "32",
         "1994-09-01 00:00:00",
         "-0.0945484113680457"
        ],
        [
         "33",
         "1994-10-01 00:00:00",
         "-0.06341310165046"
        ],
        [
         "34",
         "1994-11-01 00:00:00",
         "0.0334523063598065"
        ],
        [
         "35",
         "1994-12-01 00:00:00",
         "1.2321617304868564"
        ],
        [
         "36",
         "1995-01-01 00:00:00",
         "-1.801801227548996"
        ],
        [
         "37",
         "1995-02-01 00:00:00",
         "-0.1274134605143862"
        ],
        [
         "38",
         "1995-03-01 00:00:00",
         "0.3534541006794375"
        ],
        [
         "39",
         "1995-04-01 00:00:00",
         "-0.0789807565092529"
        ],
        [
         "40",
         "1995-05-01 00:00:00",
         "0.1528043269438851"
        ],
        [
         "41",
         "1995-06-01 00:00:00",
         "0.0628578766486375"
        ],
        [
         "42",
         "1995-07-01 00:00:00",
         "0.0057764754997304"
        ],
        [
         "43",
         "1995-08-01 00:00:00",
         "-0.0772510170804981"
        ],
        [
         "44",
         "1995-09-01 00:00:00",
         "-0.0616833622217053"
        ],
        [
         "45",
         "1995-10-01 00:00:00",
         "-0.1326026788006505"
        ],
        [
         "46",
         "1995-11-01 00:00:00",
         "0.1233987566550542"
        ],
        [
         "47",
         "1995-12-01 00:00:00",
         "1.2096751179130445"
        ],
        [
         "48",
         "1996-01-01 00:00:00",
         "-1.6236380663872552"
        ],
        [
         "49",
         "1996-02-01 00:00:00",
         "-0.0807104959380076"
        ]
       ],
       "shape": {
        "columns": 2,
        "rows": 324
       }
      },
      "text/html": [
       "<div>\n",
       "<style scoped>\n",
       "    .dataframe tbody tr th:only-of-type {\n",
       "        vertical-align: middle;\n",
       "    }\n",
       "\n",
       "    .dataframe tbody tr th {\n",
       "        vertical-align: top;\n",
       "    }\n",
       "\n",
       "    .dataframe thead th {\n",
       "        text-align: right;\n",
       "    }\n",
       "</style>\n",
       "<table border=\"1\" class=\"dataframe\">\n",
       "  <thead>\n",
       "    <tr style=\"text-align: right;\">\n",
       "      <th></th>\n",
       "      <th>ds</th>\n",
       "      <th>beer</th>\n",
       "    </tr>\n",
       "  </thead>\n",
       "  <tbody>\n",
       "    <tr>\n",
       "      <th>0</th>\n",
       "      <td>1992-01-01</td>\n",
       "      <td>2.576169</td>\n",
       "    </tr>\n",
       "    <tr>\n",
       "      <th>1</th>\n",
       "      <td>1992-02-01</td>\n",
       "      <td>0.021344</td>\n",
       "    </tr>\n",
       "    <tr>\n",
       "      <th>2</th>\n",
       "      <td>1992-03-01</td>\n",
       "      <td>0.062858</td>\n",
       "    </tr>\n",
       "    <tr>\n",
       "      <th>3</th>\n",
       "      <td>1992-04-01</td>\n",
       "      <td>0.100912</td>\n",
       "    </tr>\n",
       "    <tr>\n",
       "      <th>4</th>\n",
       "      <td>1992-05-01</td>\n",
       "      <td>0.220264</td>\n",
       "    </tr>\n",
       "    <tr>\n",
       "      <th>...</th>\n",
       "      <td>...</td>\n",
       "      <td>...</td>\n",
       "    </tr>\n",
       "    <tr>\n",
       "      <th>319</th>\n",
       "      <td>2018-08-01</td>\n",
       "      <td>-0.146441</td>\n",
       "    </tr>\n",
       "    <tr>\n",
       "      <th>320</th>\n",
       "      <td>2018-09-01</td>\n",
       "      <td>-0.552929</td>\n",
       "    </tr>\n",
       "    <tr>\n",
       "      <th>321</th>\n",
       "      <td>2018-10-01</td>\n",
       "      <td>0.206426</td>\n",
       "    </tr>\n",
       "    <tr>\n",
       "      <th>322</th>\n",
       "      <td>2018-11-01</td>\n",
       "      <td>0.645780</td>\n",
       "    </tr>\n",
       "    <tr>\n",
       "      <th>323</th>\n",
       "      <td>2018-12-01</td>\n",
       "      <td>2.110869</td>\n",
       "    </tr>\n",
       "  </tbody>\n",
       "</table>\n",
       "<p>324 rows × 2 columns</p>\n",
       "</div>"
      ],
      "text/plain": [
       "            ds      beer\n",
       "0   1992-01-01  2.576169\n",
       "1   1992-02-01  0.021344\n",
       "2   1992-03-01  0.062858\n",
       "3   1992-04-01  0.100912\n",
       "4   1992-05-01  0.220264\n",
       "..         ...       ...\n",
       "319 2018-08-01 -0.146441\n",
       "320 2018-09-01 -0.552929\n",
       "321 2018-10-01  0.206426\n",
       "322 2018-11-01  0.645780\n",
       "323 2018-12-01  2.110869\n",
       "\n",
       "[324 rows x 2 columns]"
      ]
     },
     "execution_count": 10,
     "metadata": {},
     "output_type": "execute_result"
    }
   ],
   "source": [
    "df = Read_csv(\"../preprocessing/preprocessed_timeseries.csv\")\n",
    "\n",
    "df.reset_index(inplace=True,)\n",
    "df.rename(columns={df.columns[0]: \"ds\"}, inplace=True)  # Prophet attend \"ds\" pour les dates\n",
    "detected_freq = pd.infer_freq(df[\"ds\"]) or \"MS\"\n",
    "# Exclure la colonne \"ds\" pour identifier toutes les colonnes à prédire\n",
    "target_columns = [col for col in df.columns if col != \"ds\"]\n",
    "\n",
    "# Dictionnaire pour stocker les prédictions de chaque colonne\n",
    "forecast_results = {}\n",
    "df\n",
    "\n",
    "\n"
   ]
  },
  {
   "cell_type": "code",
   "execution_count": 11,
   "metadata": {},
   "outputs": [
    {
     "name": "stderr",
     "output_type": "stream",
     "text": [
      "23:41:06 - cmdstanpy - INFO - Chain [1] start processing\n",
      "23:41:06 - cmdstanpy - INFO - Chain [1] done processing\n"
     ]
    },
    {
     "name": "stdout",
     "output_type": "stream",
     "text": [
      "Training Prophet model for beer...\n"
     ]
    },
    {
     "data": {
      "image/png": "[encoded data removed]",
      "text/plain": [
       "<Figure size 1000x500 with 1 Axes>"
      ]
     },
     "metadata": {},
     "output_type": "display_data"
    },
    {
     "name": "stdout",
     "output_type": "stream",
     "text": [
      "Toutes les prédictions ont été enregistrées.\n"
     ]
    }
   ],
   "source": [
    "# Boucle sur chaque colonne cible\n",
    "for column in target_columns:\n",
    "    print(f\"Training Prophet model for {column}...\")\n",
    "\n",
    "    # Créer un DataFrame temporaire avec seulement la colonne cible et la date\n",
    "    temp_df = df[[\"ds\", column]].rename(columns={column: \"y\"})\n",
    "\n",
    "    # Séparer train/test (80/20)\n",
    "    split_index = int(len(temp_df) * 0.8)\n",
    "    train_df = temp_df.iloc[:split_index]\n",
    "    test_df = temp_df.iloc[split_index:]\n",
    "\n",
    "\n",
    "\n",
    "    # Entraîner Prophet\n",
    "    model = Prophet()\n",
    "    model.fit(train_df)\n",
    "\n",
    "    # Créer un dataframe pour les futures prédictions\n",
    "    future = model.make_future_dataframe(periods=len(test_df), freq=detected_freq)\n",
    "\n",
    "    # Faire les prédictions\n",
    "    forecast = model.predict(future)\n",
    "\n",
    "    # Sauvegarder les résultats\n",
    "    forecast_results[column] = forecast[[\"ds\", \"yhat\", \"yhat_lower\", \"yhat_upper\"]]\n",
    "\n",
    "    # Visualisation\n",
    "    plt.figure(figsize=(10, 5))\n",
    "    plt.plot(temp_df[\"ds\"], temp_df[\"y\"], label=\"Données Réelles\", alpha=0.7)\n",
    "    plt.plot(forecast[\"ds\"], forecast[\"yhat\"], label=\"Prédictions\", linestyle=\"dashed\")\n",
    "    plt.fill_between(\n",
    "        forecast[\"ds\"],\n",
    "        forecast[\"yhat_lower\"],\n",
    "        forecast[\"yhat_upper\"],\n",
    "        color=\"gray\",\n",
    "        alpha=0.2,\n",
    "    )\n",
    "    plt.title(f\"Prévisions pour {column}\")\n",
    "    plt.legend()\n",
    "    plt.show()\n",
    "\n",
    "# Sauvegarder les prévisions de toutes les colonnes\n",
    "for col, forecast in forecast_results.items():\n",
    "    forecast.to_csv(f\"forecast_{col}.csv\", index=False)\n",
    "\n",
    "print(\"Toutes les prédictions ont été enregistrées.\")"
   ]
  },
  {
   "cell_type": "code",
   "execution_count": null,
   "metadata": {},
   "outputs": [
    {
     "data": {
      "application/vnd.microsoft.datawrangler.viewer.v0+json": {
       "columns": [
        {
         "name": "index",
         "rawType": "int64",
         "type": "integer"
        },
        {
         "name": "ds",
         "rawType": "datetime64[ns]",
         "type": "datetime"
        },
        {
         "name": "y",
         "rawType": "float64",
         "type": "float"
        }
       ],
       "conversionMethod": "pd.DataFrame",
       "ref": "cb3907ae-02bf-4d06-8800-49bed170d1f8",
       "rows": [
        [
         "0",
         "1992-01-01 00:00:00",
         "2.5761692666293063"
        ],
        [
         "1",
         "1992-02-01 00:00:00",
         "0.0213441303585232"
        ],
        [
         "2",
         "1992-03-01 00:00:00",
         "0.0628578766486375"
        ],
        [
         "3",
         "1992-04-01 00:00:00",
         "0.1009121440812423"
        ],
        [
         "4",
         "1992-05-01 00:00:00",
         "0.2202641646653208"
        ],
        [
         "5",
         "1992-06-01 00:00:00",
         "-0.1153052845131029"
        ],
        [
         "6",
         "1992-07-01 00:00:00",
         "0.2029667703777732"
        ],
        [
         "7",
         "1992-08-01 00:00:00",
         "-0.1204945027993672"
        ],
        [
         "8",
         "1992-09-01 00:00:00",
         "-0.1931435588070671"
        ],
        [
         "9",
         "1992-10-01 00:00:00",
         "0.1597232846589042"
        ],
        [
         "10",
         "1992-11-01 00:00:00",
         "-0.1222242422281219"
        ],
        [
         "11",
         "1992-12-01 00:00:00",
         "1.1422152801916088"
        ],
        [
         "12",
         "1993-01-01 00:00:00",
         "-1.5855837989546504"
        ],
        [
         "13",
         "1993-02-01 00:00:00",
         "-0.1810353828057838"
        ],
        [
         "14",
         "1993-03-01 00:00:00",
         "0.2237236435228303"
        ],
        [
         "15",
         "1993-04-01 00:00:00",
         "0.0265333486447875"
        ],
        [
         "16",
         "1993-05-01 00:00:00",
         "0.1095608412250161"
        ],
        [
         "17",
         "1993-06-01 00:00:00",
         "-0.0409264890766481"
        ],
        [
         "18",
         "1993-07-01 00:00:00",
         "0.2392912983816232"
        ],
        [
         "19",
         "1993-08-01 00:00:00",
         "-0.3332524525362029"
        ],
        [
         "20",
         "1993-09-01 00:00:00",
         "-0.1550892913744624"
        ],
        [
         "21",
         "1993-10-01 00:00:00",
         "0.0524794400761089"
        ],
        [
         "22",
         "1993-11-01 00:00:00",
         "0.0092359543572399"
        ],
        [
         "23",
         "1993-12-01 00:00:00",
         "1.1093502310452683"
        ],
        [
         "24",
         "1994-01-01 00:00:00",
         "-1.5821243200971409"
        ],
        [
         "25",
         "1994-02-01 00:00:00",
         "-0.1083863267980838"
        ],
        [
         "26",
         "1994-03-01 00:00:00",
         "0.327508009248116"
        ],
        [
         "27",
         "1994-04-01 00:00:00",
         "0.0403712640748256"
        ],
        [
         "28",
         "1994-05-01 00:00:00",
         "0.0922634469374684"
        ],
        [
         "29",
         "1994-06-01 00:00:00",
         "0.0126954332147494"
        ],
        [
         "30",
         "1994-07-01 00:00:00",
         "0.1804801578039613"
        ],
        [
         "31",
         "1994-08-01 00:00:00",
         "-0.2467654810984648"
        ],
        [
         "32",
         "1994-09-01 00:00:00",
         "-0.0945484113680457"
        ],
        [
         "33",
         "1994-10-01 00:00:00",
         "-0.06341310165046"
        ],
        [
         "34",
         "1994-11-01 00:00:00",
         "0.0334523063598065"
        ],
        [
         "35",
         "1994-12-01 00:00:00",
         "1.2321617304868564"
        ],
        [
         "36",
         "1995-01-01 00:00:00",
         "-1.801801227548996"
        ],
        [
         "37",
         "1995-02-01 00:00:00",
         "-0.1274134605143862"
        ],
        [
         "38",
         "1995-03-01 00:00:00",
         "0.3534541006794375"
        ],
        [
         "39",
         "1995-04-01 00:00:00",
         "-0.0789807565092529"
        ],
        [
         "40",
         "1995-05-01 00:00:00",
         "0.1528043269438851"
        ],
        [
         "41",
         "1995-06-01 00:00:00",
         "0.0628578766486375"
        ],
        [
         "42",
         "1995-07-01 00:00:00",
         "0.0057764754997304"
        ],
        [
         "43",
         "1995-08-01 00:00:00",
         "-0.0772510170804981"
        ],
        [
         "44",
         "1995-09-01 00:00:00",
         "-0.0616833622217053"
        ],
        [
         "45",
         "1995-10-01 00:00:00",
         "-0.1326026788006505"
        ],
        [
         "46",
         "1995-11-01 00:00:00",
         "0.1233987566550542"
        ],
        [
         "47",
         "1995-12-01 00:00:00",
         "1.2096751179130445"
        ],
        [
         "48",
         "1996-01-01 00:00:00",
         "-1.6236380663872552"
        ],
        [
         "49",
         "1996-02-01 00:00:00",
         "-0.0807104959380076"
        ]
       ],
       "shape": {
        "columns": 2,
        "rows": 259
       }
      },
      "text/html": [
       "<div>\n",
       "<style scoped>\n",
       "    .dataframe tbody tr th:only-of-type {\n",
       "        vertical-align: middle;\n",
       "    }\n",
       "\n",
       "    .dataframe tbody tr th {\n",
       "        vertical-align: top;\n",
       "    }\n",
       "\n",
       "    .dataframe thead th {\n",
       "        text-align: right;\n",
       "    }\n",
       "</style>\n",
       "<table border=\"1\" class=\"dataframe\">\n",
       "  <thead>\n",
       "    <tr style=\"text-align: right;\">\n",
       "      <th></th>\n",
       "      <th>ds</th>\n",
       "      <th>y</th>\n",
       "    </tr>\n",
       "  </thead>\n",
       "  <tbody>\n",
       "    <tr>\n",
       "      <th>0</th>\n",
       "      <td>1992-01-01</td>\n",
       "      <td>2.576169</td>\n",
       "    </tr>\n",
       "    <tr>\n",
       "      <th>1</th>\n",
       "      <td>1992-02-01</td>\n",
       "      <td>0.021344</td>\n",
       "    </tr>\n",
       "    <tr>\n",
       "      <th>2</th>\n",
       "      <td>1992-03-01</td>\n",
       "      <td>0.062858</td>\n",
       "    </tr>\n",
       "    <tr>\n",
       "      <th>3</th>\n",
       "      <td>1992-04-01</td>\n",
       "      <td>0.100912</td>\n",
       "    </tr>\n",
       "    <tr>\n",
       "      <th>4</th>\n",
       "      <td>1992-05-01</td>\n",
       "      <td>0.220264</td>\n",
       "    </tr>\n",
       "    <tr>\n",
       "      <th>...</th>\n",
       "      <td>...</td>\n",
       "      <td>...</td>\n",
       "    </tr>\n",
       "    <tr>\n",
       "      <th>254</th>\n",
       "      <td>2013-03-01</td>\n",
       "      <td>0.652699</td>\n",
       "    </tr>\n",
       "    <tr>\n",
       "      <th>255</th>\n",
       "      <td>2013-04-01</td>\n",
       "      <td>-0.269252</td>\n",
       "    </tr>\n",
       "    <tr>\n",
       "      <th>256</th>\n",
       "      <td>2013-05-01</td>\n",
       "      <td>0.759943</td>\n",
       "    </tr>\n",
       "    <tr>\n",
       "      <th>257</th>\n",
       "      <td>2013-06-01</td>\n",
       "      <td>-0.272712</td>\n",
       "    </tr>\n",
       "    <tr>\n",
       "      <th>258</th>\n",
       "      <td>2013-07-01</td>\n",
       "      <td>0.355184</td>\n",
       "    </tr>\n",
       "  </tbody>\n",
       "</table>\n",
       "<p>259 rows × 2 columns</p>\n",
       "</div>"
      ],
      "text/plain": [
       "            ds         y\n",
       "0   1992-01-01  2.576169\n",
       "1   1992-02-01  0.021344\n",
       "2   1992-03-01  0.062858\n",
       "3   1992-04-01  0.100912\n",
       "4   1992-05-01  0.220264\n",
       "..         ...       ...\n",
       "254 2013-03-01  0.652699\n",
       "255 2013-04-01 -0.269252\n",
       "256 2013-05-01  0.759943\n",
       "257 2013-06-01 -0.272712\n",
       "258 2013-07-01  0.355184\n",
       "\n",
       "[259 rows x 2 columns]"
      ]
     },
     "execution_count": 8,
     "metadata": {},
     "output_type": "execute_result"
    }
   ],
   "source": [
    "train_df"
   ]
  },
  {
   "cell_type": "code",
   "execution_count": null,
   "metadata": {},
   "outputs": [
    {
     "data": {
      "application/vnd.microsoft.datawrangler.viewer.v0+json": {
       "columns": [
        {
         "name": "index",
         "rawType": "int64",
         "type": "integer"
        },
        {
         "name": "ds",
         "rawType": "datetime64[ns]",
         "type": "datetime"
        },
        {
         "name": "y",
         "rawType": "float64",
         "type": "float"
        }
       ],
       "conversionMethod": "pd.DataFrame",
       "ref": "9968896f-b890-4df8-aa1a-627a20a2dc8c",
       "rows": [
        [
         "259",
         "2013-08-01 00:00:00",
         "0.0801552709361851"
        ],
        [
         "260",
         "2013-09-01 00:00:00",
         "-0.8452553234476123"
        ],
        [
         "261",
         "2013-10-01 00:00:00",
         "0.2358318195241137"
        ],
        [
         "262",
         "2013-11-01 00:00:00",
         "0.436481593259666"
        ],
        [
         "263",
         "2013-12-01 00:00:00",
         "1.9655712482788756"
        ],
        [
         "264",
         "2014-01-01 00:00:00",
         "-3.206349643697862"
        ],
        [
         "265",
         "2014-02-01 00:00:00",
         "-0.1568190308032171"
        ],
        [
         "266",
         "2014-03-01 00:00:00",
         "0.5575633532724994"
        ],
        [
         "267",
         "2014-04-01 00:00:00",
         "0.0524794400761089"
        ],
        [
         "268",
         "2014-05-01 00:00:00",
         "0.7668618241518256"
        ],
        [
         "269",
         "2014-06-01 00:00:00",
         "-0.2571439176709933"
        ],
        [
         "270",
         "2014-07-01 00:00:00",
         "0.3223187909618518"
        ],
        [
         "271",
         "2014-08-01 00:00:00",
         "-0.0737915382229886"
        ],
        [
         "272",
         "2014-09-01 00:00:00",
         "-0.7345520000073076"
        ],
        [
         "273",
         "2014-10-01 00:00:00",
         "0.4434005509746851"
        ],
        [
         "274",
         "2014-11-01 00:00:00",
         "-0.0115209187878172"
        ],
        [
         "275",
         "2014-12-01 00:00:00",
         "2.506979689479116"
        ],
        [
         "276",
         "2015-01-01 00:00:00",
         "-3.4934863888711525"
        ],
        [
         "277",
         "2015-02-01 00:00:00",
         "-0.1896840799495576"
        ],
        [
         "278",
         "2015-03-01 00:00:00",
         "0.6146447544214065"
        ],
        [
         "279",
         "2015-04-01 00:00:00",
         "-0.0167101370740814"
        ],
        [
         "280",
         "2015-05-01 00:00:00",
         "0.7755105212955994"
        ],
        [
         "281",
         "2015-06-01 00:00:00",
         "-0.238116783954691"
        ],
        [
         "282",
         "2015-07-01 00:00:00",
         "0.5108603886961208"
        ],
        [
         "283",
         "2015-08-01 00:00:00",
         "-0.5044966559829244"
        ],
        [
         "284",
         "2015-09-01 00:00:00",
         "-0.3574688045387695"
        ],
        [
         "285",
         "2015-10-01 00:00:00",
         "0.3119403543893232"
        ],
        [
         "286",
         "2015-11-01 00:00:00",
         "-0.0461157073629124"
        ],
        [
         "287",
         "2015-12-01 00:00:00",
         "2.647088583208252"
        ],
        [
         "288",
         "2016-01-01 00:00:00",
         "-3.849812711194633"
        ],
        [
         "289",
         "2016-02-01 00:00:00",
         "0.247939995525397"
        ],
        [
         "290",
         "2016-03-01 00:00:00",
         "0.4468600298321946"
        ],
        [
         "291",
         "2016-04-01 00:00:00",
         "0.0749660526499208"
        ],
        [
         "292",
         "2016-05-01 00:00:00",
         "0.465887163548497"
        ],
        [
         "293",
         "2016-06-01 00:00:00",
         "0.0888039680799589"
        ],
        [
         "294",
         "2016-07-01 00:00:00",
         "0.4451302904034399"
        ],
        [
         "295",
         "2016-08-01 00:00:00",
         "-0.5027669165541696"
        ],
        [
         "296",
         "2016-09-01 00:00:00",
         "-0.1135755450843481"
        ],
        [
         "297",
         "2016-10-01 00:00:00",
         "-0.0288183130753648"
        ],
        [
         "298",
         "2016-11-01 00:00:00",
         "0.3759407132532494"
        ],
        [
         "299",
         "2016-12-01 00:00:00",
         "2.353032880319942"
        ],
        [
         "300",
         "2017-01-01 00:00:00",
         "-4.057381442645204"
        ],
        [
         "301",
         "2017-02-01 00:00:00",
         "0.0196143909297685"
        ],
        [
         "302",
         "2017-03-01 00:00:00",
         "0.8101053098706946"
        ],
        [
         "303",
         "2017-04-01 00:00:00",
         "-0.02708857364661"
        ],
        [
         "304",
         "2017-05-01 00:00:00",
         "0.6509692824252565"
        ],
        [
         "305",
         "2017-06-01 00:00:00",
         "0.0161549120722589"
        ],
        [
         "306",
         "2017-07-01 00:00:00",
         "0.1770206789464518"
        ],
        [
         "307",
         "2017-08-01 00:00:00",
         "-0.2951981851035981"
        ],
        [
         "308",
         "2017-09-01 00:00:00",
         "-0.2225491290958981"
        ]
       ],
       "shape": {
        "columns": 2,
        "rows": 65
       }
      },
      "text/html": [
       "<div>\n",
       "<style scoped>\n",
       "    .dataframe tbody tr th:only-of-type {\n",
       "        vertical-align: middle;\n",
       "    }\n",
       "\n",
       "    .dataframe tbody tr th {\n",
       "        vertical-align: top;\n",
       "    }\n",
       "\n",
       "    .dataframe thead th {\n",
       "        text-align: right;\n",
       "    }\n",
       "</style>\n",
       "<table border=\"1\" class=\"dataframe\">\n",
       "  <thead>\n",
       "    <tr style=\"text-align: right;\">\n",
       "      <th></th>\n",
       "      <th>ds</th>\n",
       "      <th>y</th>\n",
       "    </tr>\n",
       "  </thead>\n",
       "  <tbody>\n",
       "    <tr>\n",
       "      <th>259</th>\n",
       "      <td>2013-08-01</td>\n",
       "      <td>0.080155</td>\n",
       "    </tr>\n",
       "    <tr>\n",
       "      <th>260</th>\n",
       "      <td>2013-09-01</td>\n",
       "      <td>-0.845255</td>\n",
       "    </tr>\n",
       "    <tr>\n",
       "      <th>261</th>\n",
       "      <td>2013-10-01</td>\n",
       "      <td>0.235832</td>\n",
       "    </tr>\n",
       "    <tr>\n",
       "      <th>262</th>\n",
       "      <td>2013-11-01</td>\n",
       "      <td>0.436482</td>\n",
       "    </tr>\n",
       "    <tr>\n",
       "      <th>263</th>\n",
       "      <td>2013-12-01</td>\n",
       "      <td>1.965571</td>\n",
       "    </tr>\n",
       "    <tr>\n",
       "      <th>...</th>\n",
       "      <td>...</td>\n",
       "      <td>...</td>\n",
       "    </tr>\n",
       "    <tr>\n",
       "      <th>319</th>\n",
       "      <td>2018-08-01</td>\n",
       "      <td>-0.146441</td>\n",
       "    </tr>\n",
       "    <tr>\n",
       "      <th>320</th>\n",
       "      <td>2018-09-01</td>\n",
       "      <td>-0.552929</td>\n",
       "    </tr>\n",
       "    <tr>\n",
       "      <th>321</th>\n",
       "      <td>2018-10-01</td>\n",
       "      <td>0.206426</td>\n",
       "    </tr>\n",
       "    <tr>\n",
       "      <th>322</th>\n",
       "      <td>2018-11-01</td>\n",
       "      <td>0.645780</td>\n",
       "    </tr>\n",
       "    <tr>\n",
       "      <th>323</th>\n",
       "      <td>2018-12-01</td>\n",
       "      <td>2.110869</td>\n",
       "    </tr>\n",
       "  </tbody>\n",
       "</table>\n",
       "<p>65 rows × 2 columns</p>\n",
       "</div>"
      ],
      "text/plain": [
       "            ds         y\n",
       "259 2013-08-01  0.080155\n",
       "260 2013-09-01 -0.845255\n",
       "261 2013-10-01  0.235832\n",
       "262 2013-11-01  0.436482\n",
       "263 2013-12-01  1.965571\n",
       "..         ...       ...\n",
       "319 2018-08-01 -0.146441\n",
       "320 2018-09-01 -0.552929\n",
       "321 2018-10-01  0.206426\n",
       "322 2018-11-01  0.645780\n",
       "323 2018-12-01  2.110869\n",
       "\n",
       "[65 rows x 2 columns]"
      ]
     },
     "execution_count": 9,
     "metadata": {},
     "output_type": "execute_result"
    }
   ],
   "source": [
    "test_df"
   ]
  },
  {
   "cell_type": "code",
   "execution_count": null,
   "metadata": {},
   "outputs": [],
   "source": []
  }
 ],
 "metadata": {
  "kernelspec": {
   "display_name": "Python 3",
   "language": "python",
   "name": "python3"
  },
  "language_info": {
   "codemirror_mode": {
    "name": "ipython",
    "version": 3
   },
   "file_extension": ".py",
   "mimetype": "text/x-python",
   "name": "python",
   "nbconvert_exporter": "python",
   "pygments_lexer": "ipython3",
   "version": "3.11.9"
  }
 },
 "nbformat": 4,
 "nbformat_minor": 4
}
