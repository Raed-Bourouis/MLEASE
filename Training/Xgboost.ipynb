{
 "cells": [
  {
   "cell_type": "code",
   "execution_count": null,
   "metadata": {},
   "outputs": [],
   "source": [
    "import pandas as pd\n",
    "import numpy as np\n",
    "import matplotlib.pyplot as plt\n",
    "import xgboost as xgb\n",
    "from sklearn.model_selection import train_test_split\n",
    "from sklearn.metrics import mean_squared_error\n"
   ]
  },
  {
   "cell_type": "code",
   "execution_count": null,
   "metadata": {},
   "outputs": [],
   "source": [
    "# Charger les données prétraitées\n",
    "df = pd.read_csv(\"../preprocessing/preprocessed_timeseries.csv\", parse_dates=True, index_col=0)\n",
    "\n",
    "# S'assurer que l'index est une colonne de type datetime\n",
    "df.index = pd.to_datetime(df.index)\n",
    "\n",
    "# Identifier les colonnes cibles (toutes sauf la date)\n",
    "target_columns = df.columns.tolist()\n",
    "\n",
    "# Dictionnaire pour stocker les prédictions\n",
    "forecast_results = {}\n"
   ]
  },
  {
   "cell_type": "code",
   "execution_count": null,
   "metadata": {},
   "outputs": [],
   "source": [
    "# create_features est essentielle pour transformer une série temporelle brute en un format exploitable par XGBoost\n",
    "def create_features(df, column, lags=25):\n",
    "    \"\"\"\n",
    "    Crée des features pour la colonne donnée :\n",
    "    - Décalages temporels (lags)\n",
    "    - Moyennes mobiles\n",
    "    \"\"\"\n",
    "    data = df[[column]].copy()\n",
    "    \n",
    "    # Créer des lag features (valeurs passées)\n",
    "    for lag in range(1, lags + 1):\n",
    "        data[f'lag_{lag}'] = data[column].shift(lag)\n",
    "\n",
    "\n",
    "    # Détecter la fréquence\n",
    "    detected_freq = pd.infer_freq(df.index)\n",
    "    print(\"***\",detected_freq,\"***\")\n",
    "    if detected_freq in [\"D\", \"B\"]:  # Quotidienne ou Business Days\n",
    "        rolling_windows = [7, 14, 30]\n",
    "    elif detected_freq in [\"MS\", \"M\"]:  # Mensuelle\n",
    "        rolling_windows = [3, 6, 12]\n",
    "    elif detected_freq in [\"YS\", \"Y\"]:  # Annuelle\n",
    "        rolling_windows = [2, 3, 5]\n",
    "    else:\n",
    "        pass\n",
    "\n",
    "    # Appliquer les moyennes mobiles pour detecter la saisonnalité\n",
    "    for window in rolling_windows:\n",
    "        data[f'rolling_mean_{window}'] = data[column].shift(1).rolling(window=window).mean()\n",
    "\n",
    "    # Supprimer les valeurs NaN générées par les décalages\n",
    "    data.dropna(inplace=True)\n",
    "    #data.to_csv(\"data3.csv\")\n",
    "    return data\n",
    "\n"
   ]
  },
  {
   "cell_type": "code",
   "execution_count": null,
   "metadata": {},
   "outputs": [],
   "source": [
    "for column in target_columns:\n",
    "    print(f\"Training XGBoost model for {column}...\")\n",
    "\n",
    "    # Créer les features\n",
    "    data = create_features(df, column)\n",
    "\n",
    "    # Séparer les features (X) et la cible (y)\n",
    "    X = data.drop(columns=[column])\n",
    "    y = data[column]\n",
    "\n",
    "    # Séparer Train/Test (80% - 20%)\n",
    "    X_train, X_test, y_train, y_test = train_test_split(X, y, test_size=0.2, shuffle=False)\n",
    "\n",
    "    # Entraîner le modèle XGBoost\n",
    "    model = xgb.XGBRegressor(objective=\"reg:squarederror\", n_estimators=100, learning_rate=0.1)\n",
    "    model.fit(X_train, y_train)\n",
    "\n",
    "    # Faire des prédictions\n",
    "    y_pred = model.predict(X_test)\n",
    "\n",
    "    # Calculer l'erreur\n",
    "    mse = mean_squared_error(y_test, y_pred)\n",
    "    print(f\"MSE for {column}: {mse:.4f}\")\n",
    "\n",
    "    # Sauvegarder les résultats\n",
    "    forecast_results[column] = pd.DataFrame({\"ds\": X_test.index, \"yhat\": y_pred})\n",
    "\n",
    "    # Visualisation\n",
    "    plt.figure(figsize=(10, 5))\n",
    "    plt.plot(y_train.index, y_train, label=\"Train\")\n",
    "    plt.plot(y_test.index, y_test, label=\"Test\", color=\"orange\")\n",
    "    plt.plot(y_test.index, y_pred, label=\"Forecast\", linestyle=\"dashed\", color=\"red\")\n",
    "    plt.title(f\"Prédictions XGBoost pour {column}\")\n",
    "    plt.legend()\n",
    "    plt.show()\n",
    "\n",
    "# Sauvegarder les prévisions\n",
    "for col, forecast in forecast_results.items():\n",
    "    forecast.to_csv(f\"forecast_xgboost_{col}.csv\", index=False)\n",
    "\n",
    "print(\"Toutes les prédictions XGBoost ont été enregistrées.\")\n"
   ]
  },
  {
   "cell_type": "code",
   "execution_count": null,
   "metadata": {},
   "outputs": [],
   "source": []
  }
 ],
 "metadata": {
  "kernelspec": {
   "display_name": "Python 3",
   "language": "python",
   "name": "python3"
  },
  "language_info": {
   "codemirror_mode": {
    "name": "ipython",
    "version": 3
   },
   "file_extension": ".py",
   "mimetype": "text/x-python",
   "name": "python",
   "nbconvert_exporter": "python",
   "pygments_lexer": "ipython3",
   "version": "3.11.9"
  }
 },
 "nbformat": 4,
 "nbformat_minor": 2
}
