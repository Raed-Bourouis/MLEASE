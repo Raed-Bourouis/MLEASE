{
 "cells": [
  {
   "cell_type": "code",
   "execution_count": 100,
   "metadata": {},
   "outputs": [],
   "source": [
    "import pandas as pd\n",
    "import numpy as np\n",
    "import matplotlib.pyplot as plt\n",
    "import tensorflow as tf\n",
    "from tensorflow.keras.models import Sequential\n",
    "from tensorflow.keras.layers import LSTM, Dense, Dropout\n",
    "from tensorflow.keras.callbacks import EarlyStopping\n",
    "from tensorflow.keras.optimizers import Adam\n",
    "from sklearn.preprocessing import MinMaxScaler\n",
    "from sklearn.metrics import mean_squared_error\n",
    "from sklearn.model_selection import train_test_split"
   ]
  },
  {
   "cell_type": "code",
   "execution_count": 101,
   "metadata": {},
   "outputs": [
    {
     "data": {
      "application/vnd.microsoft.datawrangler.viewer.v0+json": {
       "columns": [
        {
         "name": "Period",
         "rawType": "datetime64[ns]",
         "type": "datetime"
        },
        {
         "name": "Revenue",
         "rawType": "float64",
         "type": "float"
        },
        {
         "name": "Sales_quantity",
         "rawType": "float64",
         "type": "float"
        },
        {
         "name": "Average_cost",
         "rawType": "float64",
         "type": "float"
        }
       ],
       "conversionMethod": "pd.DataFrame",
       "ref": "11eb75c9-ce6d-431b-ab80-77d2ca4f59e0",
       "rows": [
        [
         "2015-01-01 00:00:00",
         "16010072.1195",
         "12729.0",
         "1257.76354148008"
        ],
        [
         "2015-01-02 00:00:00",
         "15807587.449808",
         "11636.0",
         "1358.50699981162"
        ],
        [
         "2015-01-03 00:00:00",
         "22047146.023644",
         "15922.0",
         "1384.69702447205"
        ],
        [
         "2015-01-04 00:00:00",
         "18814583.29428",
         "15227.0",
         "1235.60670481907"
        ],
        [
         "2015-01-05 00:00:00",
         "14021479.611678",
         "8620.0",
         "1626.62176469582"
        ],
        [
         "2015-01-06 00:00:00",
         "16783928.522112",
         "13160.0",
         "1275.37450775927"
        ],
        [
         "2015-01-07 00:00:00",
         "19161892.194872",
         "17254.0",
         "1110.57680508126"
        ],
        [
         "2015-01-08 00:00:00",
         "15204984.296742",
         "8642.0",
         "1759.4288702548"
        ],
        [
         "2015-01-09 00:00:00",
         "20603939.9751",
         "16144.0",
         "1276.25990926041"
        ],
        [
         "2015-01-10 00:00:00",
         "20992874.780136",
         "18135.0",
         "1157.58890433615"
        ],
        [
         "2015-01-11 00:00:00",
         "14993369.65763",
         "10841.0",
         "1383.02459714325"
        ],
        [
         "2015-01-12 00:00:00",
         "27791807.639848",
         "22113.0",
         "1256.80855785502"
        ],
        [
         "2016-01-01 00:00:00",
         "28601586.496",
         "15365.0",
         "1861.4765047836"
        ],
        [
         "2016-01-02 00:00:00",
         "22367074.065584",
         "13153.0",
         "1700.53022622854"
        ],
        [
         "2016-01-03 00:00:00",
         "29738608.568",
         "18339.0",
         "1621.60469862043"
        ],
        [
         "2016-01-04 00:00:00",
         "28351007.9388",
         "13909.0",
         "2038.3210826659"
        ],
        [
         "2016-01-05 00:00:00",
         "15264603.734865",
         "8553.0",
         "1784.70755698176"
        ],
        [
         "2016-01-06 00:00:00",
         "24385658.077056",
         "15101.0",
         "1614.83730064605"
        ],
        [
         "2016-01-07 00:00:00",
         "29486517.069955",
         "15695.0",
         "1878.72042497324"
        ],
        [
         "2016-01-08 00:00:00",
         "15270117.2565",
         "8314.0",
         "1836.67515714457"
        ],
        [
         "2016-01-09 00:00:00",
         "36141027.562",
         "17764.0",
         "2034.50954526008"
        ],
        [
         "2016-01-10 00:00:00",
         "27915143.655",
         "18969.0",
         "1471.61914992883"
        ],
        [
         "2016-01-11 00:00:00",
         "21272049.3454",
         "13433.0",
         "1583.56654101094"
        ],
        [
         "2016-01-12 00:00:00",
         "42014159.88396",
         "27029.0",
         "1554.41044374413"
        ],
        [
         "2017-01-01 00:00:00",
         "36007380.67",
         "16889.0",
         "2132.00193439517"
        ],
        [
         "2017-01-02 00:00:00",
         "30396775.3784",
         "15864.0",
         "1916.08518522441"
        ],
        [
         "2017-01-03 00:00:00",
         "47678130.72603",
         "22786.0",
         "2092.43091047266"
        ],
        [
         "2017-01-04 00:00:00",
         "27013964.728324",
         "17910.0",
         "1508.31740526655"
        ],
        [
         "2017-01-05 00:00:00",
         "24948844.698",
         "10777.0",
         "2315.00832309548"
        ],
        [
         "2017-01-06 00:00:00",
         "31101345.543",
         "18799.0",
         "1654.4148913772"
        ],
        [
         "2017-01-07 00:00:00",
         "33848822.228544",
         "17899.0",
         "1891.10130334343"
        ],
        [
         "2017-01-08 00:00:00",
         "16454666.958",
         "9649.0",
         "1705.32355249249"
        ],
        [
         "2017-01-09 00:00:00",
         "31650092.652",
         "20159.0",
         "1570.02295014634"
        ],
        [
         "2017-01-10 00:00:00",
         "31572205.6224",
         "19519.0",
         "1617.51143103643"
        ],
        [
         "2017-01-11 00:00:00",
         "22446371.0268",
         "15360.0",
         "1461.35228039063"
        ],
        [
         "2017-01-12 00:00:00",
         "44966125.7696",
         "30833.0",
         "1458.37660200435"
        ],
        [
         "2018-01-01 00:00:00",
         "44067520.858",
         "19812.0",
         "2224.28431546538"
        ],
        [
         "2018-01-02 00:00:00",
         "36020287.1553",
         "18424.0",
         "1955.07420512918"
        ],
        [
         "2018-01-03 00:00:00",
         "46995990.4125",
         "29004.0",
         "1620.32790003103"
        ],
        [
         "2018-01-04 00:00:00",
         "35536487.6848",
         "22033.0",
         "1612.87558139155"
        ],
        [
         "2018-01-05 00:00:00",
         "29699599.176",
         "14959.0",
         "1985.40003850525"
        ],
        [
         "2018-01-06 00:00:00",
         "33261065.3886",
         "23067.0",
         "1441.93286463779"
        ],
        [
         "2018-01-07 00:00:00",
         "35826534.9072",
         "18397.0",
         "1947.41180122846"
        ],
        [
         "2018-01-08 00:00:00",
         "23268655.2112",
         "12045.0",
         "1931.81031226235"
        ],
        [
         "2018-01-09 00:00:00",
         "35423489.85",
         "23358.0",
         "1516.54635884922"
        ],
        [
         "2018-01-10 00:00:00",
         "39831565.6974",
         "22644.0",
         "1759.03399122946"
        ],
        [
         "2018-01-11 00:00:00",
         "32999145.2096",
         "19765.0",
         "1669.57476395649"
        ],
        [
         "2018-01-12 00:00:00",
         "47221828.2018",
         "33207.0",
         "1422.04439430843"
        ],
        [
         "2019-01-01 00:00:00",
         "36459960.091485",
         "24096.0",
         "1513.11255359749"
        ],
        [
         "2019-01-02 00:00:00",
         "36546498.663015",
         "21624.0",
         "1690.08965330258"
        ]
       ],
       "shape": {
        "columns": 3,
        "rows": 64
       }
      },
      "text/html": [
       "<div>\n",
       "<style scoped>\n",
       "    .dataframe tbody tr th:only-of-type {\n",
       "        vertical-align: middle;\n",
       "    }\n",
       "\n",
       "    .dataframe tbody tr th {\n",
       "        vertical-align: top;\n",
       "    }\n",
       "\n",
       "    .dataframe thead th {\n",
       "        text-align: right;\n",
       "    }\n",
       "</style>\n",
       "<table border=\"1\" class=\"dataframe\">\n",
       "  <thead>\n",
       "    <tr style=\"text-align: right;\">\n",
       "      <th></th>\n",
       "      <th>Revenue</th>\n",
       "      <th>Sales_quantity</th>\n",
       "      <th>Average_cost</th>\n",
       "    </tr>\n",
       "    <tr>\n",
       "      <th>Period</th>\n",
       "      <th></th>\n",
       "      <th></th>\n",
       "      <th></th>\n",
       "    </tr>\n",
       "  </thead>\n",
       "  <tbody>\n",
       "    <tr>\n",
       "      <th>2015-01-01</th>\n",
       "      <td>1.601007e+07</td>\n",
       "      <td>12729.0</td>\n",
       "      <td>1257.763541</td>\n",
       "    </tr>\n",
       "    <tr>\n",
       "      <th>2015-01-02</th>\n",
       "      <td>1.580759e+07</td>\n",
       "      <td>11636.0</td>\n",
       "      <td>1358.507000</td>\n",
       "    </tr>\n",
       "    <tr>\n",
       "      <th>2015-01-03</th>\n",
       "      <td>2.204715e+07</td>\n",
       "      <td>15922.0</td>\n",
       "      <td>1384.697024</td>\n",
       "    </tr>\n",
       "    <tr>\n",
       "      <th>2015-01-04</th>\n",
       "      <td>1.881458e+07</td>\n",
       "      <td>15227.0</td>\n",
       "      <td>1235.606705</td>\n",
       "    </tr>\n",
       "    <tr>\n",
       "      <th>2015-01-05</th>\n",
       "      <td>1.402148e+07</td>\n",
       "      <td>8620.0</td>\n",
       "      <td>1626.621765</td>\n",
       "    </tr>\n",
       "    <tr>\n",
       "      <th>...</th>\n",
       "      <td>...</td>\n",
       "      <td>...</td>\n",
       "      <td>...</td>\n",
       "    </tr>\n",
       "    <tr>\n",
       "      <th>2019-01-12</th>\n",
       "      <td>5.875647e+07</td>\n",
       "      <td>38069.0</td>\n",
       "      <td>1543.420464</td>\n",
       "    </tr>\n",
       "    <tr>\n",
       "      <th>2020-01-01</th>\n",
       "      <td>5.628830e+07</td>\n",
       "      <td>27184.0</td>\n",
       "      <td>2070.640850</td>\n",
       "    </tr>\n",
       "    <tr>\n",
       "      <th>2020-01-02</th>\n",
       "      <td>4.022524e+07</td>\n",
       "      <td>23509.0</td>\n",
       "      <td>1711.057181</td>\n",
       "    </tr>\n",
       "    <tr>\n",
       "      <th>2020-01-03</th>\n",
       "      <td>5.002217e+07</td>\n",
       "      <td>32569.0</td>\n",
       "      <td>1535.882748</td>\n",
       "    </tr>\n",
       "    <tr>\n",
       "      <th>2020-01-04</th>\n",
       "      <td>5.232069e+07</td>\n",
       "      <td>26615.0</td>\n",
       "      <td>1965.834790</td>\n",
       "    </tr>\n",
       "  </tbody>\n",
       "</table>\n",
       "<p>64 rows × 3 columns</p>\n",
       "</div>"
      ],
      "text/plain": [
       "                 Revenue  Sales_quantity  Average_cost\n",
       "Period                                                \n",
       "2015-01-01  1.601007e+07         12729.0   1257.763541\n",
       "2015-01-02  1.580759e+07         11636.0   1358.507000\n",
       "2015-01-03  2.204715e+07         15922.0   1384.697024\n",
       "2015-01-04  1.881458e+07         15227.0   1235.606705\n",
       "2015-01-05  1.402148e+07          8620.0   1626.621765\n",
       "...                  ...             ...           ...\n",
       "2019-01-12  5.875647e+07         38069.0   1543.420464\n",
       "2020-01-01  5.628830e+07         27184.0   2070.640850\n",
       "2020-01-02  4.022524e+07         23509.0   1711.057181\n",
       "2020-01-03  5.002217e+07         32569.0   1535.882748\n",
       "2020-01-04  5.232069e+07         26615.0   1965.834790\n",
       "\n",
       "[64 rows x 3 columns]"
      ]
     },
     "execution_count": 101,
     "metadata": {},
     "output_type": "execute_result"
    }
   ],
   "source": [
    "# 2. Charger les données\n",
    "# Charger les données prétraitées\n",
    "\n",
    "df = pd.read_csv(\"../datasets/Month_Value_1.csv\", parse_dates=True, index_col=0)\n",
    "\n",
    "# S'assurer que l'index est une colonne de type datetime\n",
    "df.index = pd.to_datetime(df.index)\n",
    "\n",
    "df.dropna(inplace=True)\n",
    "\n",
    "# Identifier les colonnes cibles (toutes sauf la date)\n",
    "target_column = df.columns[-1]\n",
    "\n",
    "feature_columns = [col for col in df.columns if col != target_column] if len(df.columns) > 1 else [target_column]\n",
    "# Dictionnaire pour stocker les prédictions\n",
    "forecast_results = {}\n",
    "feature_columns\n",
    "df.loc[:,feature_columns]\n"
   ]
  },
  {
   "cell_type": "code",
   "execution_count": 102,
   "metadata": {},
   "outputs": [
    {
     "data": {
      "text/plain": [
       "Period\n",
       "2015-01-01    1.000000\n",
       "2015-01-02    1.000000\n",
       "2015-01-03    1.000000\n",
       "2015-01-04    1.000000\n",
       "2015-01-05    1.000000\n",
       "2015-01-06    1.000000\n",
       "2015-01-07    1.000000\n",
       "2015-01-08    1.000000\n",
       "2015-01-09    1.000000\n",
       "2015-01-10    1.000000\n",
       "2015-01-11    1.000000\n",
       "2015-01-12    1.000000\n",
       "2016-01-01    0.161217\n",
       "2016-01-02    0.161217\n",
       "2016-01-03    0.161217\n",
       "2016-01-04    0.161217\n",
       "2016-01-05    0.161217\n",
       "2016-01-06    0.161217\n",
       "2016-01-07    0.161217\n",
       "2016-01-08    0.161217\n",
       "2016-01-09    0.161217\n",
       "2016-01-10    0.161217\n",
       "2016-01-11    0.161217\n",
       "2016-01-12    0.161217\n",
       "2017-01-01    0.000000\n",
       "2017-01-02    0.000000\n",
       "2017-01-03    0.000000\n",
       "2017-01-04    0.000000\n",
       "2017-01-05    0.000000\n",
       "2017-01-06    0.000000\n",
       "2017-01-07    0.000000\n",
       "2017-01-08    0.000000\n",
       "2017-01-09    0.000000\n",
       "2017-01-10    0.000000\n",
       "2017-01-11    0.000000\n",
       "2017-01-12    0.000000\n",
       "2018-01-01    0.302258\n",
       "2018-01-02    0.302258\n",
       "2018-01-03    0.302258\n",
       "2018-01-04    0.302258\n",
       "2018-01-05    0.302258\n",
       "2018-01-06    0.302258\n",
       "2018-01-07    0.302258\n",
       "2018-01-08    0.302258\n",
       "2018-01-09    0.302258\n",
       "2018-01-10    0.302258\n",
       "2018-01-11    0.302258\n",
       "2018-01-12    0.302258\n",
       "2019-01-01    0.944179\n",
       "2019-01-02    0.944179\n",
       "2019-01-03    0.944179\n",
       "Name: The_average_annual_payroll_of_the_region, dtype: float64"
      ]
     },
     "execution_count": 102,
     "metadata": {},
     "output_type": "execute_result"
    }
   ],
   "source": [
    "# 3. Normalisation des données\n",
    "# LSTM fonctionne mieux avec des données normalisées entre 0 et 1 :\n",
    "scalers = {}\n",
    "scaled_data = {}\n",
    "\n",
    "scalers = {}\n",
    "\n",
    "for column in df.columns:\n",
    "    scaler = MinMaxScaler(feature_range=(0, 1))\n",
    "    scaled_data[column] = scaler.fit_transform(df[[column]])\n",
    "    scaled_data[column] = scaled_data[column].flatten()\n",
    "    scalers[column] = scaler\n",
    "\n",
    "scaled_data = pd.DataFrame(scaled_data, index= df.index)\n",
    "scaled_data\n",
    "X = scaled_data.loc[:,feature_columns]\n",
    "y=scaled_data.loc[:,target_column]\n",
    "\n",
    "X_train, X_test, y_train, y_test = train_test_split(X, y, test_size=0.2, shuffle=False)\n",
    "\n",
    "# scaler_X = MinMaxScaler(feature_range=(0, 1))\n",
    "# scaler_y = MinMaxScaler(feature_range=(0, 1))\n",
    "\n",
    "# # Fit scaler on training data only\n",
    "# X_train_scaled = scaler_X.fit_transform(X_train)\n",
    "# y_train_scaled = scaler_X.transform(pd.DataFrame(y_train))\n",
    "# # y_train_scaled = scaler_y.fit_transform(pd.DataFrame(y_train))\n",
    "\n",
    "# # Transform test data with the same scaler\n",
    "# X_test_scaled = scaler_X.transform(X_test)\n",
    "# y_test_scaled = scaler_X.transform(pd.DataFrame(y_test))\n",
    "\n",
    "y_train\n"
   ]
  },
  {
   "cell_type": "code",
   "execution_count": 103,
   "metadata": {},
   "outputs": [
    {
     "name": "stdout",
     "output_type": "stream",
     "text": [
      "*** None ***\n",
      "1\n"
     ]
    }
   ],
   "source": [
    "# 4. Transformer les données en séquences pour LSTM\n",
    "def create_sequences(data, seq_length=12):\n",
    "    sequences = []\n",
    "    for i in range(len(data) - seq_length +1):\n",
    "        seq = data[i:i+seq_length]\n",
    "        sequences.append(seq)\n",
    "    return np.array(sequences)\n",
    "\n",
    "#seq_length: Nombre de pas de temps utilisés pour la prédiction\n",
    "detected_freq = pd.infer_freq(df.index)\n",
    "print(\"***\",detected_freq,\"***\")\n",
    "if detected_freq in [\"D\", \"B\"]:  # Quotidienne ou Business Days\n",
    "    seq_length = 10\n",
    "elif detected_freq in [\"MS\", \"M\"]:# \"justify your choices\"\n",
    "    seq_length = 12\n",
    "else:\n",
    "    seq_length = 1\n",
    "print(seq_length)\n",
    "# Dictionnaire pour stocker les séquences\n",
    "\n",
    "X_train_seq = create_sequences(X_train, seq_length=seq_length)\n",
    "y_train_seq = create_sequences(y_train, seq_length=seq_length)\n",
    "X_test_seq = create_sequences(X_test, seq_length=seq_length)\n",
    "y_test_seq = create_sequences(y_test, seq_length=seq_length)\n"
   ]
  },
  {
   "cell_type": "code",
   "execution_count": 104,
   "metadata": {},
   "outputs": [],
   "source": [
    "# 6. Définir l'architecture du modèle LSTM\n",
    "def build_lstm_model(input_shape):\n",
    "    model = Sequential([\n",
    "        LSTM(200, activation='relu', return_sequences=True, input_shape=input_shape),\n",
    "        LSTM(200, activation='relu'),\n",
    "        Dense(1)\n",
    "    ])\n",
    "    model.compile(optimizer=Adam(learning_rate=0.001), loss='mse')\n",
    "    return model\n",
    "\n",
    "def build_lstm_model_2():\n",
    "    model = Sequential()\n",
    "    model.add(LSTM(50, activation='relu', return_sequences=True, input_shape=(X_train_seq.shape[1], X_train_seq.shape[2])))\n",
    "    model.add(Dropout(0.2))\n",
    "    model.add(LSTM(50, activation='relu'))\n",
    "    model.add(Dropout(0.2))\n",
    "    model.add(Dense(1))\n",
    "    model.compile(optimizer='adam', loss='mse')\n",
    "    return model\n"
   ]
  },
  {
   "cell_type": "code",
   "execution_count": 105,
   "metadata": {},
   "outputs": [
    {
     "name": "stdout",
     "output_type": "stream",
     "text": [
      "Epoch 1/100\n"
     ]
    },
    {
     "name": "stderr",
     "output_type": "stream",
     "text": [
      "C:\\Users\\raedb\\AppData\\Local\\Packages\\PythonSoftwareFoundation.Python.3.11_qbz5n2kfra8p0\\LocalCache\\local-packages\\Python311\\site-packages\\keras\\src\\layers\\rnn\\rnn.py:204: UserWarning: Do not pass an `input_shape`/`input_dim` argument to a layer. When using Sequential models, prefer using an `Input(shape)` object as the first layer in the model instead.\n",
      "  super().__init__(**kwargs)\n"
     ]
    },
    {
     "name": "stdout",
     "output_type": "stream",
     "text": [
      "\u001b[1m2/2\u001b[0m \u001b[32m━━━━━━━━━━━━━━━━━━━━\u001b[0m\u001b[37m\u001b[0m \u001b[1m3s\u001b[0m 409ms/step - loss: 0.3416 - val_loss: 0.3001\n",
      "Epoch 2/100\n",
      "\u001b[1m2/2\u001b[0m \u001b[32m━━━━━━━━━━━━━━━━━━━━\u001b[0m\u001b[37m\u001b[0m \u001b[1m0s\u001b[0m 52ms/step - loss: 0.3254 - val_loss: 0.2912\n",
      "Epoch 3/100\n",
      "\u001b[1m2/2\u001b[0m \u001b[32m━━━━━━━━━━━━━━━━━━━━\u001b[0m\u001b[37m\u001b[0m \u001b[1m0s\u001b[0m 49ms/step - loss: 0.3002 - val_loss: 0.2819\n",
      "Epoch 4/100\n",
      "\u001b[1m2/2\u001b[0m \u001b[32m━━━━━━━━━━━━━━━━━━━━\u001b[0m\u001b[37m\u001b[0m \u001b[1m0s\u001b[0m 49ms/step - loss: 0.3039 - val_loss: 0.2716\n",
      "Epoch 5/100\n",
      "\u001b[1m2/2\u001b[0m \u001b[32m━━━━━━━━━━━━━━━━━━━━\u001b[0m\u001b[37m\u001b[0m \u001b[1m0s\u001b[0m 40ms/step - loss: 0.2972 - val_loss: 0.2603\n",
      "Epoch 6/100\n",
      "\u001b[1m2/2\u001b[0m \u001b[32m━━━━━━━━━━━━━━━━━━━━\u001b[0m\u001b[37m\u001b[0m \u001b[1m0s\u001b[0m 53ms/step - loss: 0.2914 - val_loss: 0.2480\n",
      "Epoch 7/100\n",
      "\u001b[1m2/2\u001b[0m \u001b[32m━━━━━━━━━━━━━━━━━━━━\u001b[0m\u001b[37m\u001b[0m \u001b[1m0s\u001b[0m 45ms/step - loss: 0.2736 - val_loss: 0.2346\n",
      "Epoch 8/100\n",
      "\u001b[1m2/2\u001b[0m \u001b[32m━━━━━━━━━━━━━━━━━━━━\u001b[0m\u001b[37m\u001b[0m \u001b[1m0s\u001b[0m 46ms/step - loss: 0.2667 - val_loss: 0.2200\n",
      "Epoch 9/100\n",
      "\u001b[1m2/2\u001b[0m \u001b[32m━━━━━━━━━━━━━━━━━━━━\u001b[0m\u001b[37m\u001b[0m \u001b[1m0s\u001b[0m 46ms/step - loss: 0.2682 - val_loss: 0.2042\n",
      "Epoch 10/100\n",
      "\u001b[1m2/2\u001b[0m \u001b[32m━━━━━━━━━━━━━━━━━━━━\u001b[0m\u001b[37m\u001b[0m \u001b[1m0s\u001b[0m 51ms/step - loss: 0.2595 - val_loss: 0.1878\n",
      "Epoch 11/100\n",
      "\u001b[1m2/2\u001b[0m \u001b[32m━━━━━━━━━━━━━━━━━━━━\u001b[0m\u001b[37m\u001b[0m \u001b[1m0s\u001b[0m 42ms/step - loss: 0.2593 - val_loss: 0.1715\n",
      "Epoch 12/100\n",
      "\u001b[1m2/2\u001b[0m \u001b[32m━━━━━━━━━━━━━━━━━━━━\u001b[0m\u001b[37m\u001b[0m \u001b[1m0s\u001b[0m 46ms/step - loss: 0.2346 - val_loss: 0.1553\n",
      "Epoch 13/100\n",
      "\u001b[1m2/2\u001b[0m \u001b[32m━━━━━━━━━━━━━━━━━━━━\u001b[0m\u001b[37m\u001b[0m \u001b[1m0s\u001b[0m 46ms/step - loss: 0.2436 - val_loss: 0.1392\n",
      "Epoch 14/100\n",
      "\u001b[1m2/2\u001b[0m \u001b[32m━━━━━━━━━━━━━━━━━━━━\u001b[0m\u001b[37m\u001b[0m \u001b[1m0s\u001b[0m 43ms/step - loss: 0.2363 - val_loss: 0.1245\n",
      "Epoch 15/100\n",
      "\u001b[1m2/2\u001b[0m \u001b[32m━━━━━━━━━━━━━━━━━━━━\u001b[0m\u001b[37m\u001b[0m \u001b[1m0s\u001b[0m 53ms/step - loss: 0.2221 - val_loss: 0.1121\n",
      "Epoch 16/100\n",
      "\u001b[1m2/2\u001b[0m \u001b[32m━━━━━━━━━━━━━━━━━━━━\u001b[0m\u001b[37m\u001b[0m \u001b[1m0s\u001b[0m 34ms/step - loss: 0.2113 - val_loss: 0.1019\n",
      "Epoch 17/100\n",
      "\u001b[1m2/2\u001b[0m \u001b[32m━━━━━━━━━━━━━━━━━━━━\u001b[0m\u001b[37m\u001b[0m \u001b[1m0s\u001b[0m 34ms/step - loss: 0.2197 - val_loss: 0.0945\n",
      "Epoch 18/100\n",
      "\u001b[1m2/2\u001b[0m \u001b[32m━━━━━━━━━━━━━━━━━━━━\u001b[0m\u001b[37m\u001b[0m \u001b[1m0s\u001b[0m 35ms/step - loss: 0.2171 - val_loss: 0.0907\n",
      "Epoch 19/100\n",
      "\u001b[1m2/2\u001b[0m \u001b[32m━━━━━━━━━━━━━━━━━━━━\u001b[0m\u001b[37m\u001b[0m \u001b[1m0s\u001b[0m 37ms/step - loss: 0.1934 - val_loss: 0.0881\n",
      "Epoch 20/100\n",
      "\u001b[1m2/2\u001b[0m \u001b[32m━━━━━━━━━━━━━━━━━━━━\u001b[0m\u001b[37m\u001b[0m \u001b[1m0s\u001b[0m 47ms/step - loss: 0.2004 - val_loss: 0.0850\n",
      "Epoch 21/100\n",
      "\u001b[1m2/2\u001b[0m \u001b[32m━━━━━━━━━━━━━━━━━━━━\u001b[0m\u001b[37m\u001b[0m \u001b[1m0s\u001b[0m 50ms/step - loss: 0.1984 - val_loss: 0.0829\n",
      "Epoch 22/100\n",
      "\u001b[1m2/2\u001b[0m \u001b[32m━━━━━━━━━━━━━━━━━━━━\u001b[0m\u001b[37m\u001b[0m \u001b[1m0s\u001b[0m 34ms/step - loss: 0.1947 - val_loss: 0.0818\n",
      "Epoch 23/100\n",
      "\u001b[1m2/2\u001b[0m \u001b[32m━━━━━━━━━━━━━━━━━━━━\u001b[0m\u001b[37m\u001b[0m \u001b[1m0s\u001b[0m 38ms/step - loss: 0.1896 - val_loss: 0.0813\n",
      "Epoch 24/100\n",
      "\u001b[1m2/2\u001b[0m \u001b[32m━━━━━━━━━━━━━━━━━━━━\u001b[0m\u001b[37m\u001b[0m \u001b[1m0s\u001b[0m 40ms/step - loss: 0.1927 - val_loss: 0.0808\n",
      "Epoch 25/100\n",
      "\u001b[1m2/2\u001b[0m \u001b[32m━━━━━━━━━━━━━━━━━━━━\u001b[0m\u001b[37m\u001b[0m \u001b[1m0s\u001b[0m 41ms/step - loss: 0.1869 - val_loss: 0.0807\n",
      "Epoch 26/100\n",
      "\u001b[1m2/2\u001b[0m \u001b[32m━━━━━━━━━━━━━━━━━━━━\u001b[0m\u001b[37m\u001b[0m \u001b[1m0s\u001b[0m 41ms/step - loss: 0.1909 - val_loss: 0.0817\n",
      "Epoch 27/100\n",
      "\u001b[1m2/2\u001b[0m \u001b[32m━━━━━━━━━━━━━━━━━━━━\u001b[0m\u001b[37m\u001b[0m \u001b[1m0s\u001b[0m 42ms/step - loss: 0.1788 - val_loss: 0.0838\n",
      "Epoch 28/100\n",
      "\u001b[1m2/2\u001b[0m \u001b[32m━━━━━━━━━━━━━━━━━━━━\u001b[0m\u001b[37m\u001b[0m \u001b[1m0s\u001b[0m 39ms/step - loss: 0.1782 - val_loss: 0.0855\n",
      "Epoch 29/100\n",
      "\u001b[1m2/2\u001b[0m \u001b[32m━━━━━━━━━━━━━━━━━━━━\u001b[0m\u001b[37m\u001b[0m \u001b[1m0s\u001b[0m 50ms/step - loss: 0.1753 - val_loss: 0.0871\n",
      "Epoch 30/100\n",
      "\u001b[1m2/2\u001b[0m \u001b[32m━━━━━━━━━━━━━━━━━━━━\u001b[0m\u001b[37m\u001b[0m \u001b[1m0s\u001b[0m 41ms/step - loss: 0.1757 - val_loss: 0.0890\n",
      "Epoch 31/100\n",
      "\u001b[1m2/2\u001b[0m \u001b[32m━━━━━━━━━━━━━━━━━━━━\u001b[0m\u001b[37m\u001b[0m \u001b[1m0s\u001b[0m 37ms/step - loss: 0.1662 - val_loss: 0.0910\n",
      "Epoch 32/100\n",
      "\u001b[1m2/2\u001b[0m \u001b[32m━━━━━━━━━━━━━━━━━━━━\u001b[0m\u001b[37m\u001b[0m \u001b[1m0s\u001b[0m 35ms/step - loss: 0.1753 - val_loss: 0.0925\n",
      "Epoch 33/100\n",
      "\u001b[1m2/2\u001b[0m \u001b[32m━━━━━━━━━━━━━━━━━━━━\u001b[0m\u001b[37m\u001b[0m \u001b[1m0s\u001b[0m 35ms/step - loss: 0.1686 - val_loss: 0.0946\n",
      "Epoch 34/100\n",
      "\u001b[1m2/2\u001b[0m \u001b[32m━━━━━━━━━━━━━━━━━━━━\u001b[0m\u001b[37m\u001b[0m \u001b[1m0s\u001b[0m 50ms/step - loss: 0.1625 - val_loss: 0.0965\n",
      "Epoch 35/100\n",
      "\u001b[1m2/2\u001b[0m \u001b[32m━━━━━━━━━━━━━━━━━━━━\u001b[0m\u001b[37m\u001b[0m \u001b[1m0s\u001b[0m 37ms/step - loss: 0.1590 - val_loss: 0.0976\n",
      "Train Loss: 0.16502761840820312\n",
      "Test Loss: 0.19976145029067993\n",
      "WARNING:tensorflow:5 out of the last 129 calls to <function TensorFlowTrainer.make_predict_function.<locals>.one_step_on_data_distributed at 0x000001FC8FBAA2A0> triggered tf.function retracing. Tracing is expensive and the excessive number of tracings could be due to (1) creating @tf.function repeatedly in a loop, (2) passing tensors with different shapes, (3) passing Python objects instead of tensors. For (1), please define your @tf.function outside of the loop. For (2), @tf.function has reduce_retracing=True option that can avoid unnecessary retracing. For (3), please refer to https://www.tensorflow.org/guide/function#controlling_retracing and https://www.tensorflow.org/api_docs/python/tf/function for  more details.\n",
      "\u001b[1m1/1\u001b[0m \u001b[32m━━━━━━━━━━━━━━━━━━━━\u001b[0m\u001b[37m\u001b[0m \u001b[1m0s\u001b[0m 304ms/step\n"
     ]
    },
    {
     "data": {
      "text/plain": [
       "array([[0.39595622],\n",
       "       [0.385077  ],\n",
       "       [0.4297688 ],\n",
       "       [0.4202876 ],\n",
       "       [0.41109422],\n",
       "       [0.42749122],\n",
       "       [0.42940077],\n",
       "       [0.40195504],\n",
       "       [0.49930188],\n",
       "       [0.45055148],\n",
       "       [0.41288748],\n",
       "       [0.46209744],\n",
       "       [0.44211692]], dtype=float32)"
      ]
     },
     "execution_count": 105,
     "metadata": {},
     "output_type": "execute_result"
    }
   ],
   "source": [
    "early_stopping = EarlyStopping(monitor='val_loss', patience=10, restore_best_weights=True)\n",
    "model = build_lstm_model((X_train_seq.shape[1], X_train_seq.shape[2]))\n",
    "history = model.fit(\n",
    "    X_train_seq, y_train_seq,\n",
    "    epochs=100,\n",
    "    batch_size=32,\n",
    "    validation_split=0.2,\n",
    "    callbacks=[early_stopping],\n",
    "    verbose=1\n",
    ")\n",
    "\n",
    "train_loss = model.evaluate(X_train_seq, y_train_seq, verbose=0)\n",
    "test_loss = model.evaluate(X_test_seq, y_test_seq, verbose=0)\n",
    "print(f'Train Loss: {train_loss}')\n",
    "print(f'Test Loss: {test_loss}')\n",
    "\n",
    "# Make predictions\n",
    "predictions = model.predict(X_test_seq)\n",
    "predictions"
   ]
  },
  {
   "cell_type": "code",
   "execution_count": 106,
   "metadata": {},
   "outputs": [
    {
     "data": {
      "image/png": "[encoded data removed]",
      "text/plain": [
       "<Figure size 1000x600 with 1 Axes>"
      ]
     },
     "metadata": {},
     "output_type": "display_data"
    }
   ],
   "source": [
    "y_test_rescaled = scalers[target_column].inverse_transform(y_test.values.reshape(-1, 1))  # For actual values\n",
    "y_pred_rescaled = scalers[target_column].inverse_transform(predictions)\n",
    "y_train_rescaled = scalers[target_column].inverse_transform(y_train.values.reshape(-1, 1))\n",
    "\n",
    "plt.figure(figsize=(10, 6))\n",
    "plt.plot(y_train.index, y_train_rescaled, label=\"Train\")\n",
    "plt.plot(y_test.index, y_test_rescaled, label=\"Test\", color=\"orange\")\n",
    "plt.plot(y_test.index, y_pred_rescaled, label=\"Forecast\", linestyle=\"dashed\", color=\"red\")\n",
    "plt.title('Actual vs Predicted Values')\n",
    "plt.xlabel('Time')\n",
    "plt.ylabel('Value')\n",
    "plt.legend()\n",
    "plt.show()\n"
   ]
  },
  {
   "cell_type": "code",
   "execution_count": null,
   "metadata": {},
   "outputs": [
    {
     "data": {
      "text/plain": [
       "(13, 1)"
      ]
     },
     "execution_count": 107,
     "metadata": {},
     "output_type": "execute_result"
    }
   ],
   "source": [
    "y_test_rescaled"
   ]
  },
  {
   "cell_type": "code",
   "execution_count": null,
   "metadata": {},
   "outputs": [
    {
     "data": {
      "text/plain": [
       "-8.252588394489575"
      ]
     },
     "execution_count": 111,
     "metadata": {},
     "output_type": "execute_result"
    }
   ],
   "source": []
  },
  {
   "cell_type": "code",
   "execution_count": 109,
   "metadata": {},
   "outputs": [],
   "source": [
    "# # 7. Entraîner un modèle LSTM par colonne\n",
    "# for column in target_columns:\n",
    "#     print(f\"Training LSTM model for {column}...\")\n",
    "\n",
    "#     X_train, y_train = train_sequences[column]\n",
    "#     X_test, y_test = test_sequences[column]\n",
    "\n",
    "#     # Construire et entraîner le modèle\n",
    "#     model = build_lstm_model((seq_length, 1))\n",
    "#     model.fit(X_train, y_train, epochs=200, batch_size=16, verbose=1)\n",
    "\n",
    "#     # Faire des prédictions\n",
    "#     y_pred = model.predict(X_test)\n",
    "\n",
    "#     # Inverser la normalisation\n",
    "#     y_pred_rescaled = scalers[column].inverse_transform(y_pred)\n",
    "#     y_test_rescaled = scalers[column].inverse_transform(y_test)\n",
    "\n",
    "#     # Calculer l'erreur\n",
    "#     mse = mean_squared_error(y_test_rescaled, y_pred_rescaled)\n",
    "#     print(f\"MSE for {column}: {mse:.4f}\")\n",
    "\n",
    "#     # Sauvegarder les résultats\n",
    "#     forecast_results[column] = pd.DataFrame({\n",
    "#         \"ds\": df.index[train_size + seq_length:],\n",
    "#         \"yhat\": y_pred_rescaled.flatten()\n",
    "#     })\n",
    "\n",
    "#     # Visualisation\n",
    "#     plt.figure(figsize=(10, 5))\n",
    "#     plt.plot(df.index[:train_size], df[column][:train_size], label=\"Train\")\n",
    "#     plt.plot(df.index[train_size:], df[column][train_size:], label=\"Test\", color=\"orange\")\n",
    "#     plt.plot(df.index[train_size + seq_length:], y_pred_rescaled, label=\"Forecast\", linestyle=\"dashed\", color=\"red\")\n",
    "#     plt.title(f\"Prédictions LSTM pour {column}\")\n",
    "#     plt.legend()\n",
    "#     plt.show()\n",
    "\n",
    "# # Sauvegarder les prévisions\n",
    "# for col, forecast in forecast_results.items():\n",
    "#     forecast.to_csv(f\"forecast_lstm_{col}.csv\", index=False)\n",
    "\n",
    "# print(\"Toutes les prédictions LSTM ont été enregistrées.\")"
   ]
  }
 ],
 "metadata": {
  "kernelspec": {
   "display_name": "Python 3",
   "language": "python",
   "name": "python3"
  },
  "language_info": {
   "codemirror_mode": {
    "name": "ipython",
    "version": 3
   },
   "file_extension": ".py",
   "mimetype": "text/x-python",
   "name": "python",
   "nbconvert_exporter": "python",
   "pygments_lexer": "ipython3",
   "version": "3.11.9"
  }
 },
 "nbformat": 4,
 "nbformat_minor": 2
}
