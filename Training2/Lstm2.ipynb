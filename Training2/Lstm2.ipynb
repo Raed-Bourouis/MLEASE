{
 "cells": [
  {
   "cell_type": "code",
   "execution_count": 42,
   "metadata": {},
   "outputs": [],
   "source": [
    "import matplotlib.pyplot as plt\n",
    "import numpy as np\n",
    "import optuna\n",
    "import pandas as pd\n",
    "import tensorflow as tf\n",
    "from optuna.integration import TFKerasPruningCallback\n",
    "from sklearn.metrics import (mean_absolute_error,\n",
    "                             mean_absolute_percentage_error,\n",
    "                             mean_squared_error, r2_score)\n",
    "from sklearn.model_selection import train_test_split\n",
    "from sklearn.preprocessing import MinMaxScaler\n",
    "from tensorflow.keras.callbacks import EarlyStopping  # type: ignore\n",
    "from tensorflow.keras.callbacks import ModelCheckpoint  # type: ignore\n",
    "from tensorflow.keras.layers import LSTM, Dense, Dropout  # type: ignore\n",
    "from tensorflow.keras.models import Sequential  # type: ignore\n",
    "from tensorflow.keras.optimizers import Adam  # type: ignore"
   ]
  },
  {
   "cell_type": "code",
   "execution_count": 43,
   "metadata": {},
   "outputs": [],
   "source": [
    "# 2. Charger les données\n",
    "# Charger les données prétraitées\n",
    "\n",
    "df = pd.read_csv(\"../datasets/BeerWineLiquor.csv\", parse_dates=True, index_col=0)\n",
    "\n",
    "# S'assurer que l'index est une colonne de type datetime\n",
    "df.index = pd.to_datetime(df.index)\n",
    "\n",
    "# if len(df.columns) == 1 : df['target'] = df[df.columns[-1]]\n",
    "\n",
    "\n",
    "\n",
    "# Identifier les colonnes cibles (toutes sauf la date)\n",
    "target_column = df.columns[-1]\n",
    "\n",
    "feature_columns = [col for col in df.columns if col != target_column] if len(df.columns) > 1 else [target_column]\n",
    "\n",
    "\n"
   ]
  },
  {
   "cell_type": "code",
   "execution_count": 44,
   "metadata": {},
   "outputs": [
    {
     "data": {
      "text/plain": [
       "0      0.001643\n",
       "1      0.008215\n",
       "2      0.019717\n",
       "3      0.035736\n",
       "4      0.065927\n",
       "         ...   \n",
       "254    0.436024\n",
       "255    0.408092\n",
       "256    0.502362\n",
       "257    0.474019\n",
       "258    0.520230\n",
       "Name: beer, Length: 259, dtype: float64"
      ]
     },
     "execution_count": 44,
     "metadata": {},
     "output_type": "execute_result"
    }
   ],
   "source": [
    "# 3. Normalisation des données\n",
    "# LSTM fonctionne mieux avec des données normalisées entre 0 et 1 :\n",
    "scalers = {}\n",
    "scaled_data = {}\n",
    "\n",
    "scalers = {}\n",
    "\n",
    "for column in df.columns:\n",
    "    scaler = MinMaxScaler(feature_range=(0, 1))\n",
    "    scaled_data[column] = scaler.fit_transform(df[[column]])\n",
    "    scaled_data[column] = scaled_data[column].flatten()\n",
    "    scalers[column] = scaler\n",
    "\n",
    "scaled_data = pd.DataFrame(scaled_data, index=df.index)\n",
    "scaled_data.reset_index(inplace=True)\n",
    "train_size = int(len(scaled_data) * 0.8)\n",
    "X_train = scaled_data.iloc[:train_size][feature_columns]\n",
    "y_train = scaled_data.iloc[:train_size][target_column]\n",
    "X_test = scaled_data.iloc[train_size:][feature_columns]\n",
    "y_test = scaled_data.iloc[train_size:][target_column]\n",
    "\n",
    "# X_train, X_test, y_train, y_test = train_test_split(X, y, test_size=0.2, shuffle=False)\n",
    "\n",
    "# scaler_X = MinMaxScaler(feature_range=(0, 1))\n",
    "# scaler_y = MinMaxScaler(feature_range=(0, 1))\n",
    "\n",
    "# # Fit scaler on training data only\n",
    "# X_train_scaled = scaler_X.fit_transform(X_train)\n",
    "# y_train_scaled = scaler_X.transform(pd.DataFrame(y_train))\n",
    "# # y_train_scaled = scaler_y.fit_transform(pd.DataFrame(y_train))\n",
    "\n",
    "# # Transform test data with the same scaler\n",
    "# X_test_scaled = scaler_X.transform(X_test)\n",
    "# y_test_scaled = scaler_X.transform(pd.DataFrame(y_test))\n",
    "\n",
    "y_train"
   ]
  },
  {
   "cell_type": "code",
   "execution_count": 45,
   "metadata": {},
   "outputs": [
    {
     "data": {
      "application/vnd.microsoft.datawrangler.viewer.v0+json": {
       "columns": [
        {
         "name": "index",
         "rawType": "int64",
         "type": "integer"
        },
        {
         "name": "beer",
         "rawType": "float64",
         "type": "float"
        }
       ],
       "conversionMethod": "pd.DataFrame",
       "ref": "d1bd86d6-b27b-4959-a571-b7654b021b07",
       "rows": [
        [
         "0",
         "0.001643047853768731"
        ],
        [
         "1",
         "0.008215239268843655"
        ],
        [
         "2",
         "0.019716574245224883"
        ],
        [
         "3",
         "0.03573629081947011"
        ],
        [
         "4",
         "0.0659272951324707"
        ],
        [
         "5",
         "0.05627438899157933"
        ],
        [
         "6",
         "0.08441158348736905"
        ],
        [
         "7",
         "0.07414253440131441"
        ],
        [
         "8",
         "0.05524748408297392"
        ],
        [
         "9",
         "0.07825015403573626"
        ],
        [
         "10",
         "0.06777572396796055"
        ],
        [
         "11",
         "0.20743479153830352"
        ],
        [
         "12",
         "0.02320805093448347"
        ],
        [
         "13",
         "0.005750667488190586"
        ],
        [
         "14",
         "0.036352433764633374"
        ],
        [
         "15",
         "0.04354076812487162"
        ],
        [
         "16",
         "0.06058738960772231"
        ],
        [
         "17",
         "0.059765865680837915"
        ],
        [
         "18",
         "0.09221606079277056"
        ],
        [
         "19",
         "0.056685150955021524"
        ],
        [
         "20",
         "0.04230848223454503"
        ],
        [
         "21",
         "0.05257753132059967"
        ],
        [
         "22",
         "0.05771205586362699"
        ],
        [
         "23",
         "0.19346888478126917"
        ],
        [
         "24",
         "0.009652906140891315"
        ],
        [
         "25",
         "0.0008215239268843377"
        ],
        [
         "26",
         "0.04374614910659269"
        ],
        [
         "27",
         "0.05257753132059967"
        ],
        [
         "28",
         "0.06757034298623943"
        ],
        [
         "29",
         "0.07311562949270894"
        ],
        [
         "30",
         "0.09858287122612441"
        ],
        [
         "31",
         "0.07332101047443002"
        ],
        [
         "32",
         "0.06613267611419182"
        ],
        [
         "33",
         "0.06264119942493324"
        ],
        [
         "34",
         "0.07065105771205582"
        ],
        [
         "35",
         "0.22098993633189562"
        ],
        [
         "36",
         "0.011090573012938976"
        ],
        [
         "37",
         "0.0"
        ],
        [
         "38",
         "0.046005339905524745"
        ],
        [
         "39",
         "0.0406654343807763"
        ],
        [
         "40",
         "0.0628465804066543"
        ],
        [
         "41",
         "0.07434791538303548"
        ],
        [
         "42",
         "0.07907167796262066"
        ],
        [
         "43",
         "0.07393715341959334"
        ],
        [
         "44",
         "0.07065105771205582"
        ],
        [
         "45",
         "0.05894434175395358"
        ],
        [
         "46",
         "0.077634011090573"
        ],
        [
         "47",
         "0.22530293694803855"
        ],
        [
         "48",
         "0.036557814746354445"
        ],
        [
         "49",
         "0.031012528239884984"
        ]
       ],
       "shape": {
        "columns": 1,
        "rows": 259
       }
      },
      "text/html": [
       "<div>\n",
       "<style scoped>\n",
       "    .dataframe tbody tr th:only-of-type {\n",
       "        vertical-align: middle;\n",
       "    }\n",
       "\n",
       "    .dataframe tbody tr th {\n",
       "        vertical-align: top;\n",
       "    }\n",
       "\n",
       "    .dataframe thead th {\n",
       "        text-align: right;\n",
       "    }\n",
       "</style>\n",
       "<table border=\"1\" class=\"dataframe\">\n",
       "  <thead>\n",
       "    <tr style=\"text-align: right;\">\n",
       "      <th></th>\n",
       "      <th>beer</th>\n",
       "    </tr>\n",
       "  </thead>\n",
       "  <tbody>\n",
       "    <tr>\n",
       "      <th>0</th>\n",
       "      <td>0.001643</td>\n",
       "    </tr>\n",
       "    <tr>\n",
       "      <th>1</th>\n",
       "      <td>0.008215</td>\n",
       "    </tr>\n",
       "    <tr>\n",
       "      <th>2</th>\n",
       "      <td>0.019717</td>\n",
       "    </tr>\n",
       "    <tr>\n",
       "      <th>3</th>\n",
       "      <td>0.035736</td>\n",
       "    </tr>\n",
       "    <tr>\n",
       "      <th>4</th>\n",
       "      <td>0.065927</td>\n",
       "    </tr>\n",
       "    <tr>\n",
       "      <th>...</th>\n",
       "      <td>...</td>\n",
       "    </tr>\n",
       "    <tr>\n",
       "      <th>254</th>\n",
       "      <td>0.436024</td>\n",
       "    </tr>\n",
       "    <tr>\n",
       "      <th>255</th>\n",
       "      <td>0.408092</td>\n",
       "    </tr>\n",
       "    <tr>\n",
       "      <th>256</th>\n",
       "      <td>0.502362</td>\n",
       "    </tr>\n",
       "    <tr>\n",
       "      <th>257</th>\n",
       "      <td>0.474019</td>\n",
       "    </tr>\n",
       "    <tr>\n",
       "      <th>258</th>\n",
       "      <td>0.520230</td>\n",
       "    </tr>\n",
       "  </tbody>\n",
       "</table>\n",
       "<p>259 rows × 1 columns</p>\n",
       "</div>"
      ],
      "text/plain": [
       "         beer\n",
       "0    0.001643\n",
       "1    0.008215\n",
       "2    0.019717\n",
       "3    0.035736\n",
       "4    0.065927\n",
       "..        ...\n",
       "254  0.436024\n",
       "255  0.408092\n",
       "256  0.502362\n",
       "257  0.474019\n",
       "258  0.520230\n",
       "\n",
       "[259 rows x 1 columns]"
      ]
     },
     "execution_count": 45,
     "metadata": {},
     "output_type": "execute_result"
    }
   ],
   "source": [
    "X_train"
   ]
  },
  {
   "cell_type": "code",
   "execution_count": 46,
   "metadata": {},
   "outputs": [],
   "source": [
    "# # 4. Transformer les données en séquences pour LSTM\n",
    "# def create_sequences(data, seq_length=12):\n",
    "#     sequences = []\n",
    "#     for i in range(len(data) - seq_length):\n",
    "#         seq = data[i:i+seq_length]\n",
    "#         sequences.append(seq)\n",
    "#     return np.array(sequences)\n",
    "\n",
    "# #seq_length: Nombre de pas de temps utilisés pour la prédiction\n",
    "# detected_freq = pd.infer_freq(df.index)\n",
    "# print(\"***\",detected_freq,\"***\")\n",
    "# if detected_freq in [\"D\", \"B\"]:  # Quotidienne ou Business Days\n",
    "#     seq_length = 10\n",
    "# elif detected_freq in [\"MS\", \"M\"]:# \"justify your choices\"\n",
    "#     seq_length = 12\n",
    "# else:\n",
    "#     seq_length = 1\n",
    "# print(seq_length)\n",
    "# # Dictionnaire pour stocker les séquences\n",
    "\n",
    "# X_train_seq = create_sequences(X_train, seq_length=seq_length)\n",
    "# y_train_seq = create_sequences(y_train, seq_length=seq_length)\n",
    "# X_test_seq = create_sequences(X_test, seq_length=seq_length)\n",
    "# y_test_seq = create_sequences(y_test, seq_length=seq_length)\n"
   ]
  },
  {
   "cell_type": "code",
   "execution_count": 47,
   "metadata": {},
   "outputs": [
    {
     "name": "stdout",
     "output_type": "stream",
     "text": [
      "*** MS ***\n",
      "Sequence length: 12\n"
     ]
    }
   ],
   "source": [
    "def create_sequences(X, y, seq_length=12):\n",
    "    Xs, ys = [], []\n",
    "    for i in range(len(X) - seq_length):\n",
    "        Xs.append(X[i:i+seq_length])\n",
    "        ys.append(y[i + seq_length])  # Predict one step ahead\n",
    "    return np.array(Xs), np.array(ys)\n",
    "\n",
    "# Detect frequency to set sequence length dynamically\n",
    "detected_freq = pd.infer_freq(df.index)\n",
    "print(\"***\", detected_freq, \"***\")\n",
    "\n",
    "if detected_freq in [\"D\", \"B\"]:  # Daily or Business Days\n",
    "    seq_length = 10\n",
    "elif detected_freq in [\"MS\", \"M\"]:  # Monthly Start or Monthly\n",
    "    seq_length = 12\n",
    "else:\n",
    "    seq_length = 1\n",
    "\n",
    "print(\"Sequence length:\", seq_length)\n",
    "\n",
    "# Prepare the data (use .values to get numpy arrays)\n",
    "X_train_seq, y_train_seq = create_sequences(X_train.values, y_train.values, seq_length)\n",
    "X_test_seq, y_test_seq = create_sequences(X_test.values, y_test.values, seq_length)\n"
   ]
  },
  {
   "cell_type": "code",
   "execution_count": null,
   "metadata": {},
   "outputs": [],
   "source": [
    "def objective(trial):\n",
    "    model = Sequential()\n",
    "\n",
    "    # Hyperparameters\n",
    "    n_layers = trial.suggest_int('n_layers', 1, 3)\n",
    "    units = trial.suggest_int('units', 32, 128)\n",
    "    dropout_rate = trial.suggest_float('dropout_rate', 0.1, 0.5)\n",
    "    learning_rate = trial.suggest_loguniform('learning_rate', 1e-5, 1e-2)\n",
    "\n",
    "    for i in range(n_layers):\n",
    "        return_seq = (i < n_layers - 1)\n",
    "        if i == 0:\n",
    "            model.add(LSTM(units,activation='tanh', return_sequences=return_seq, input_shape=(X_train_seq.shape[1], X_train_seq.shape[2])))\n",
    "        else:\n",
    "            model.add(LSTM(units,activation='tanh', return_sequences=return_seq))\n",
    "        model.add(Dropout(dropout_rate))\n",
    "\n",
    "    model.add(Dense(units=1, activation='linear'))  # Regression\n",
    "\n",
    "    model.compile(optimizer=Adam(learning_rate), loss='mse', metrics=['mse'])\n",
    "\n",
    "    # Callbacks\n",
    "    early_stopping = EarlyStopping(monitor='val_loss', mode='min', verbose=1,patience=5, restore_best_weights=True)\n",
    "    pruning_callback = TFKerasPruningCallback(trial, \"val_loss\")\n",
    "\n",
    "    # Save best model of this trial\n",
    "    # model_path = f\"model_trial_{trial.number}.keras\"\n",
    "    # checkpoint = ModelCheckpoint(model_path, monitor=\"val_loss\", save_best_only=True)\n",
    "\n",
    "    history = model.fit(\n",
    "        X_train_seq, y_train_seq,\n",
    "        validation_data=(X_test_seq, y_test_seq),\n",
    "        epochs=100,\n",
    "        batch_size=16,\n",
    "        callbacks=[early_stopping, pruning_callback],\n",
    "        verbose=0\n",
    "    )\n",
    "\n",
    "    return min(history.history[\"val_loss\"])"
   ]
  },
  {
   "cell_type": "code",
   "execution_count": 49,
   "metadata": {},
   "outputs": [
    {
     "name": "stderr",
     "output_type": "stream",
     "text": [
      "[I 2025-04-15 22:17:47,980] A new study created in memory with name: no-name-8877cca1-d44e-4b42-b815-c9f402374aff\n",
      "C:\\Users\\raedb\\AppData\\Local\\Temp\\ipykernel_18772\\3543206000.py:8: FutureWarning: suggest_loguniform has been deprecated in v3.0.0. This feature will be removed in v6.0.0. See https://github.com/optuna/optuna/releases/tag/v3.0.0. Use suggest_float(..., log=True) instead.\n",
      "  learning_rate = trial.suggest_loguniform('learning_rate', 1e-5, 1e-2)\n",
      "C:\\Users\\raedb\\AppData\\Local\\Packages\\PythonSoftwareFoundation.Python.3.11_qbz5n2kfra8p0\\LocalCache\\local-packages\\Python311\\site-packages\\keras\\src\\layers\\rnn\\rnn.py:204: UserWarning: Do not pass an `input_shape`/`input_dim` argument to a layer. When using Sequential models, prefer using an `Input(shape)` object as the first layer in the model instead.\n",
      "  super().__init__(**kwargs)\n"
     ]
    },
    {
     "name": "stdout",
     "output_type": "stream",
     "text": [
      "Restoring model weights from the end of the best epoch: 50.\n"
     ]
    },
    {
     "name": "stderr",
     "output_type": "stream",
     "text": [
      "[I 2025-04-15 22:18:01,662] Trial 0 finished with value: 0.012996196746826172 and parameters: {'n_layers': 3, 'units': 35, 'dropout_rate': 0.11242020915269967, 'learning_rate': 6.439351501709519e-05}. Best is trial 0 with value: 0.012996196746826172.\n"
     ]
    },
    {
     "name": "stdout",
     "output_type": "stream",
     "text": [
      "Epoch 13: early stopping\n",
      "Restoring model weights from the end of the best epoch: 8.\n"
     ]
    },
    {
     "name": "stderr",
     "output_type": "stream",
     "text": [
      "[I 2025-04-15 22:18:09,462] Trial 1 finished with value: 0.013564292341470718 and parameters: {'n_layers': 3, 'units': 79, 'dropout_rate': 0.22692700250216055, 'learning_rate': 0.00712146051688217}. Best is trial 0 with value: 0.012996196746826172.\n"
     ]
    },
    {
     "name": "stdout",
     "output_type": "stream",
     "text": [
      "Epoch 45: early stopping\n",
      "Restoring model weights from the end of the best epoch: 40.\n"
     ]
    },
    {
     "name": "stderr",
     "output_type": "stream",
     "text": [
      "[I 2025-04-15 22:18:33,306] Trial 2 finished with value: 0.012138936668634415 and parameters: {'n_layers': 3, 'units': 92, 'dropout_rate': 0.4978982710636115, 'learning_rate': 6.809832030591497e-05}. Best is trial 2 with value: 0.012138936668634415.\n"
     ]
    },
    {
     "name": "stdout",
     "output_type": "stream",
     "text": [
      "Epoch 30: early stopping\n",
      "Restoring model weights from the end of the best epoch: 25.\n"
     ]
    },
    {
     "name": "stderr",
     "output_type": "stream",
     "text": [
      "[I 2025-04-15 22:18:45,323] Trial 3 finished with value: 0.012804119847714901 and parameters: {'n_layers': 2, 'units': 117, 'dropout_rate': 0.17427801774845247, 'learning_rate': 0.0006197231032428018}. Best is trial 2 with value: 0.012138936668634415.\n"
     ]
    },
    {
     "name": "stdout",
     "output_type": "stream",
     "text": [
      "Epoch 17: early stopping\n",
      "Restoring model weights from the end of the best epoch: 12.\n"
     ]
    },
    {
     "name": "stderr",
     "output_type": "stream",
     "text": [
      "[I 2025-04-15 22:18:49,345] Trial 4 finished with value: 0.0145903080701828 and parameters: {'n_layers': 1, 'units': 124, 'dropout_rate': 0.48431057376677966, 'learning_rate': 0.002354814943378967}. Best is trial 2 with value: 0.012138936668634415.\n",
      "[I 2025-04-15 22:18:52,244] Trial 5 pruned. Trial was pruned at epoch 5.\n",
      "[I 2025-04-15 22:18:59,520] Trial 6 pruned. Trial was pruned at epoch 7.\n",
      "[I 2025-04-15 22:19:02,152] Trial 7 pruned. Trial was pruned at epoch 5.\n",
      "[I 2025-04-15 22:19:08,548] Trial 8 pruned. Trial was pruned at epoch 6.\n",
      "[I 2025-04-15 22:19:11,349] Trial 9 pruned. Trial was pruned at epoch 5.\n",
      "[I 2025-04-15 22:19:19,508] Trial 10 pruned. Trial was pruned at epoch 24.\n",
      "[I 2025-04-15 22:19:27,124] Trial 11 pruned. Trial was pruned at epoch 24.\n"
     ]
    },
    {
     "name": "stdout",
     "output_type": "stream",
     "text": [
      "Epoch 18: early stopping\n",
      "Restoring model weights from the end of the best epoch: 13.\n"
     ]
    },
    {
     "name": "stderr",
     "output_type": "stream",
     "text": [
      "[I 2025-04-15 22:19:34,740] Trial 12 finished with value: 0.013662014156579971 and parameters: {'n_layers': 2, 'units': 100, 'dropout_rate': 0.23935477438116085, 'learning_rate': 0.0015678160824778007}. Best is trial 2 with value: 0.012138936668634415.\n",
      "[I 2025-04-15 22:19:50,669] Trial 13 pruned. Trial was pruned at epoch 24.\n",
      "[I 2025-04-15 22:20:00,605] Trial 14 pruned. Trial was pruned at epoch 5.\n",
      "[I 2025-04-15 22:20:14,995] Trial 15 pruned. Trial was pruned at epoch 5.\n"
     ]
    },
    {
     "name": "stdout",
     "output_type": "stream",
     "text": [
      "Epoch 24: early stopping\n",
      "Restoring model weights from the end of the best epoch: 19.\n"
     ]
    },
    {
     "name": "stderr",
     "output_type": "stream",
     "text": [
      "[I 2025-04-15 22:20:30,963] Trial 16 finished with value: 0.013159430585801601 and parameters: {'n_layers': 2, 'units': 113, 'dropout_rate': 0.18101858399769583, 'learning_rate': 0.0011760500675754057}. Best is trial 2 with value: 0.012138936668634415.\n",
      "[I 2025-04-15 22:20:44,535] Trial 17 pruned. Trial was pruned at epoch 5.\n"
     ]
    },
    {
     "name": "stdout",
     "output_type": "stream",
     "text": [
      "Epoch 8: early stopping\n",
      "Restoring model weights from the end of the best epoch: 3.\n"
     ]
    },
    {
     "name": "stderr",
     "output_type": "stream",
     "text": [
      "[I 2025-04-15 22:20:54,652] Trial 18 finished with value: 0.013717440888285637 and parameters: {'n_layers': 2, 'units': 115, 'dropout_rate': 0.4901283033944784, 'learning_rate': 0.00020669515827142088}. Best is trial 2 with value: 0.012138936668634415.\n",
      "[I 2025-04-15 22:21:04,318] Trial 19 pruned. Trial was pruned at epoch 5.\n"
     ]
    },
    {
     "name": "stdout",
     "output_type": "stream",
     "text": [
      "Epoch 8: early stopping\n",
      "Restoring model weights from the end of the best epoch: 3.\n"
     ]
    },
    {
     "name": "stderr",
     "output_type": "stream",
     "text": [
      "[I 2025-04-15 22:21:18,601] Trial 20 finished with value: 0.012970303185284138 and parameters: {'n_layers': 3, 'units': 95, 'dropout_rate': 0.14774687687852261, 'learning_rate': 0.0007573239109928065}. Best is trial 2 with value: 0.012138936668634415.\n"
     ]
    },
    {
     "name": "stdout",
     "output_type": "stream",
     "text": [
      "Epoch 6: early stopping\n",
      "Restoring model weights from the end of the best epoch: 1.\n"
     ]
    },
    {
     "name": "stderr",
     "output_type": "stream",
     "text": [
      "[I 2025-04-15 22:21:32,735] Trial 21 finished with value: 0.013718371279537678 and parameters: {'n_layers': 3, 'units': 95, 'dropout_rate': 0.14982852185977139, 'learning_rate': 0.0007148368079003635}. Best is trial 2 with value: 0.012138936668634415.\n"
     ]
    },
    {
     "name": "stdout",
     "output_type": "stream",
     "text": [
      "Epoch 8: early stopping\n",
      "Restoring model weights from the end of the best epoch: 3.\n"
     ]
    },
    {
     "name": "stderr",
     "output_type": "stream",
     "text": [
      "[I 2025-04-15 22:21:47,176] Trial 22 finished with value: 0.014079288579523563 and parameters: {'n_layers': 3, 'units': 76, 'dropout_rate': 0.14557438747503362, 'learning_rate': 0.00026657561397101575}. Best is trial 2 with value: 0.012138936668634415.\n"
     ]
    },
    {
     "name": "stdout",
     "output_type": "stream",
     "text": [
      "Epoch 14: early stopping\n",
      "Restoring model weights from the end of the best epoch: 9.\n"
     ]
    },
    {
     "name": "stderr",
     "output_type": "stream",
     "text": [
      "[I 2025-04-15 22:21:55,235] Trial 23 finished with value: 0.012640816159546375 and parameters: {'n_layers': 3, 'units': 107, 'dropout_rate': 0.22959428857580255, 'learning_rate': 0.0006604744190834604}. Best is trial 2 with value: 0.012138936668634415.\n"
     ]
    },
    {
     "name": "stdout",
     "output_type": "stream",
     "text": [
      "Epoch 15: early stopping\n",
      "Restoring model weights from the end of the best epoch: 10.\n"
     ]
    },
    {
     "name": "stderr",
     "output_type": "stream",
     "text": [
      "[I 2025-04-15 22:22:05,845] Trial 24 finished with value: 0.013703753240406513 and parameters: {'n_layers': 2, 'units': 108, 'dropout_rate': 0.22339424826385273, 'learning_rate': 0.00260253491219579}. Best is trial 2 with value: 0.012138936668634415.\n"
     ]
    },
    {
     "name": "stdout",
     "output_type": "stream",
     "text": [
      "Epoch 24: early stopping\n",
      "Restoring model weights from the end of the best epoch: 19.\n"
     ]
    },
    {
     "name": "stderr",
     "output_type": "stream",
     "text": [
      "[I 2025-04-15 22:22:26,605] Trial 25 finished with value: 0.012181245721876621 and parameters: {'n_layers': 3, 'units': 121, 'dropout_rate': 0.27194099404774225, 'learning_rate': 0.0004447166008415951}. Best is trial 2 with value: 0.012138936668634415.\n",
      "[I 2025-04-15 22:22:39,706] Trial 26 pruned. Trial was pruned at epoch 5.\n"
     ]
    },
    {
     "name": "stdout",
     "output_type": "stream",
     "text": [
      "Epoch 27: early stopping\n",
      "Restoring model weights from the end of the best epoch: 22.\n"
     ]
    },
    {
     "name": "stderr",
     "output_type": "stream",
     "text": [
      "[I 2025-04-15 22:23:00,655] Trial 27 finished with value: 0.012277566827833652 and parameters: {'n_layers': 3, 'units': 86, 'dropout_rate': 0.3382215908862656, 'learning_rate': 0.0003432188316158866}. Best is trial 2 with value: 0.012138936668634415.\n",
      "[I 2025-04-15 22:23:12,737] Trial 28 pruned. Trial was pruned at epoch 5.\n",
      "[I 2025-04-15 22:23:24,963] Trial 29 pruned. Trial was pruned at epoch 5.\n",
      "[I 2025-04-15 22:23:37,096] Trial 30 pruned. Trial was pruned at epoch 5.\n"
     ]
    },
    {
     "name": "stdout",
     "output_type": "stream",
     "text": [
      "Epoch 17: early stopping\n",
      "Restoring model weights from the end of the best epoch: 12.\n"
     ]
    },
    {
     "name": "stderr",
     "output_type": "stream",
     "text": [
      "[I 2025-04-15 22:23:53,239] Trial 31 finished with value: 0.012653060257434845 and parameters: {'n_layers': 3, 'units': 85, 'dropout_rate': 0.2574451944198105, 'learning_rate': 0.0011536562506363503}. Best is trial 2 with value: 0.012138936668634415.\n"
     ]
    },
    {
     "name": "stdout",
     "output_type": "stream",
     "text": [
      "Epoch 47: early stopping\n",
      "Restoring model weights from the end of the best epoch: 42.\n"
     ]
    },
    {
     "name": "stderr",
     "output_type": "stream",
     "text": [
      "[I 2025-04-15 22:24:22,836] Trial 32 finished with value: 0.011720319278538227 and parameters: {'n_layers': 3, 'units': 98, 'dropout_rate': 0.21257005968194673, 'learning_rate': 0.00023862863113189016}. Best is trial 32 with value: 0.011720319278538227.\n"
     ]
    },
    {
     "name": "stdout",
     "output_type": "stream",
     "text": [
      "Epoch 45: early stopping\n",
      "Restoring model weights from the end of the best epoch: 40.\n"
     ]
    },
    {
     "name": "stderr",
     "output_type": "stream",
     "text": [
      "[I 2025-04-15 22:24:48,938] Trial 33 finished with value: 0.011768990196287632 and parameters: {'n_layers': 3, 'units': 79, 'dropout_rate': 0.2975280573291982, 'learning_rate': 0.00023299784242473328}. Best is trial 32 with value: 0.011720319278538227.\n",
      "[I 2025-04-15 22:25:03,504] Trial 34 pruned. Trial was pruned at epoch 5.\n",
      "[I 2025-04-15 22:25:17,006] Trial 35 pruned. Trial was pruned at epoch 5.\n",
      "[I 2025-04-15 22:25:30,794] Trial 36 pruned. Trial was pruned at epoch 5.\n",
      "[I 2025-04-15 22:25:53,463] Trial 37 pruned. Trial was pruned at epoch 30.\n",
      "[I 2025-04-15 22:26:06,613] Trial 38 pruned. Trial was pruned at epoch 5.\n",
      "[I 2025-04-15 22:26:20,392] Trial 39 pruned. Trial was pruned at epoch 5.\n"
     ]
    },
    {
     "name": "stdout",
     "output_type": "stream",
     "text": [
      "Epoch 12: early stopping\n",
      "Restoring model weights from the end of the best epoch: 7.\n"
     ]
    },
    {
     "name": "stderr",
     "output_type": "stream",
     "text": [
      "[I 2025-04-15 22:26:36,156] Trial 40 finished with value: 0.012790543958544731 and parameters: {'n_layers': 3, 'units': 101, 'dropout_rate': 0.3784287683718195, 'learning_rate': 0.0004961128598042915}. Best is trial 32 with value: 0.011720319278538227.\n"
     ]
    },
    {
     "name": "stdout",
     "output_type": "stream",
     "text": [
      "Epoch 13: early stopping\n",
      "Restoring model weights from the end of the best epoch: 8.\n"
     ]
    },
    {
     "name": "stderr",
     "output_type": "stream",
     "text": [
      "[I 2025-04-15 22:26:51,762] Trial 41 finished with value: 0.012637305073440075 and parameters: {'n_layers': 3, 'units': 84, 'dropout_rate': 0.455013310070911, 'learning_rate': 0.0004196610209291733}. Best is trial 32 with value: 0.011720319278538227.\n",
      "[I 2025-04-15 22:27:05,357] Trial 42 pruned. Trial was pruned at epoch 5.\n",
      "[I 2025-04-15 22:27:17,059] Trial 43 pruned. Trial was pruned at epoch 5.\n",
      "[I 2025-04-15 22:27:22,133] Trial 44 pruned. Trial was pruned at epoch 5.\n"
     ]
    },
    {
     "name": "stdout",
     "output_type": "stream",
     "text": [
      "Epoch 21: early stopping\n",
      "Restoring model weights from the end of the best epoch: 16.\n"
     ]
    },
    {
     "name": "stderr",
     "output_type": "stream",
     "text": [
      "[I 2025-04-15 22:27:38,850] Trial 45 finished with value: 0.01232527568936348 and parameters: {'n_layers': 3, 'units': 62, 'dropout_rate': 0.4691773388803668, 'learning_rate': 0.0009987467219818497}. Best is trial 32 with value: 0.011720319278538227.\n"
     ]
    },
    {
     "name": "stdout",
     "output_type": "stream",
     "text": [
      "Epoch 7: early stopping\n",
      "Restoring model weights from the end of the best epoch: 2.\n"
     ]
    },
    {
     "name": "stderr",
     "output_type": "stream",
     "text": [
      "[I 2025-04-15 22:27:51,439] Trial 46 finished with value: 0.013972352258861065 and parameters: {'n_layers': 3, 'units': 91, 'dropout_rate': 0.19382913539628543, 'learning_rate': 0.00031136214708121605}. Best is trial 32 with value: 0.011720319278538227.\n"
     ]
    },
    {
     "name": "stdout",
     "output_type": "stream",
     "text": [
      "Epoch 11: early stopping\n",
      "Restoring model weights from the end of the best epoch: 6.\n"
     ]
    },
    {
     "name": "stderr",
     "output_type": "stream",
     "text": [
      "[I 2025-04-15 22:28:04,646] Trial 47 finished with value: 0.013597280718386173 and parameters: {'n_layers': 3, 'units': 56, 'dropout_rate': 0.3061111543405606, 'learning_rate': 0.008384518897018595}. Best is trial 32 with value: 0.011720319278538227.\n",
      "[I 2025-04-15 22:28:17,113] Trial 48 pruned. Trial was pruned at epoch 5.\n"
     ]
    },
    {
     "name": "stdout",
     "output_type": "stream",
     "text": [
      "Epoch 8: early stopping\n",
      "Restoring model weights from the end of the best epoch: 3.\n"
     ]
    },
    {
     "name": "stderr",
     "output_type": "stream",
     "text": [
      "[I 2025-04-15 22:28:26,787] Trial 49 finished with value: 0.013775614090263844 and parameters: {'n_layers': 2, 'units': 118, 'dropout_rate': 0.11015201927458176, 'learning_rate': 0.000176388815508953}. Best is trial 32 with value: 0.011720319278538227.\n"
     ]
    },
    {
     "name": "stdout",
     "output_type": "stream",
     "text": [
      "Best trial:\n",
      "  Value:  0.011720319278538227\n",
      "  Params:  {'n_layers': 3, 'units': 98, 'dropout_rate': 0.21257005968194673, 'learning_rate': 0.00023862863113189016}\n"
     ]
    }
   ],
   "source": [
    "pruner = optuna.pruners.MedianPruner(n_warmup_steps=5)\n",
    "study = optuna.create_study(direction='minimize', pruner=pruner)\n",
    "study.optimize(objective, n_trials=50)\n",
    "\n",
    "print(\"Best trial:\")\n",
    "print(\"  Value: \", study.best_trial.value)\n",
    "print(\"  Params: \", study.best_trial.params)\n"
   ]
  },
  {
   "cell_type": "code",
   "execution_count": 50,
   "metadata": {},
   "outputs": [],
   "source": [
    "# study.best_params"
   ]
  },
  {
   "cell_type": "code",
   "execution_count": 51,
   "metadata": {},
   "outputs": [],
   "source": [
    "# 6. Définir l'architecture du modèle LSTM\n",
    "def build_lstm_model():\n",
    "    model = Sequential([\n",
    "        LSTM(200, activation='relu', return_sequences=True, input_shape=(X_train_seq.shape[1], X_train_seq.shape[2])),\n",
    "        LSTM(200, activation='relu'),\n",
    "        Dense(1)\n",
    "    ])\n",
    "    model.compile(optimizer=Adam(learning_rate=0.001), loss='mse')\n",
    "    return model\n",
    "\n",
    "def build_lstm_model_2():\n",
    "    model = Sequential()\n",
    "    model.add(LSTM(50, activation='relu', return_sequences=True, input_shape=(X_train_seq.shape[1], X_train_seq.shape[2])))\n",
    "    model.add(Dropout(0.2))\n",
    "    model.add(LSTM(50, activation='relu'))\n",
    "    model.add(Dropout(0.2))\n",
    "    # model.add(Dense(1))\n",
    "    model.add(Dense(units=1, activation='linear'))\n",
    "    model.compile(optimizer='adam', loss='mse')\n",
    "    return model\n"
   ]
  },
  {
   "cell_type": "code",
   "execution_count": 65,
   "metadata": {},
   "outputs": [
    {
     "name": "stdout",
     "output_type": "stream",
     "text": [
      "Epoch 1/100\n"
     ]
    },
    {
     "name": "stderr",
     "output_type": "stream",
     "text": [
      "C:\\Users\\raedb\\AppData\\Local\\Packages\\PythonSoftwareFoundation.Python.3.11_qbz5n2kfra8p0\\LocalCache\\local-packages\\Python311\\site-packages\\keras\\src\\layers\\rnn\\rnn.py:204: UserWarning: Do not pass an `input_shape`/`input_dim` argument to a layer. When using Sequential models, prefer using an `Input(shape)` object as the first layer in the model instead.\n",
      "  super().__init__(**kwargs)\n"
     ]
    },
    {
     "name": "stdout",
     "output_type": "stream",
     "text": [
      "\u001b[1m16/16\u001b[0m \u001b[32m━━━━━━━━━━━━━━━━━━━━\u001b[0m\u001b[37m\u001b[0m \u001b[1m5s\u001b[0m 61ms/step - loss: 0.0659 - mse: 0.0659 - val_loss: 0.3036 - val_mse: 0.3036\n",
      "Epoch 2/100\n",
      "\u001b[1m16/16\u001b[0m \u001b[32m━━━━━━━━━━━━━━━━━━━━\u001b[0m\u001b[37m\u001b[0m \u001b[1m0s\u001b[0m 22ms/step - loss: 0.0432 - mse: 0.0432 - val_loss: 0.1437 - val_mse: 0.1437\n",
      "Epoch 3/100\n",
      "\u001b[1m16/16\u001b[0m \u001b[32m━━━━━━━━━━━━━━━━━━━━\u001b[0m\u001b[37m\u001b[0m \u001b[1m0s\u001b[0m 20ms/step - loss: 0.0188 - mse: 0.0188 - val_loss: 0.0540 - val_mse: 0.0540\n",
      "Epoch 4/100\n",
      "\u001b[1m16/16\u001b[0m \u001b[32m━━━━━━━━━━━━━━━━━━━━\u001b[0m\u001b[37m\u001b[0m \u001b[1m0s\u001b[0m 18ms/step - loss: 0.0144 - mse: 0.0144 - val_loss: 0.0668 - val_mse: 0.0668\n",
      "Epoch 5/100\n",
      "\u001b[1m16/16\u001b[0m \u001b[32m━━━━━━━━━━━━━━━━━━━━\u001b[0m\u001b[37m\u001b[0m \u001b[1m0s\u001b[0m 17ms/step - loss: 0.0093 - mse: 0.0093 - val_loss: 0.0259 - val_mse: 0.0259\n",
      "Epoch 6/100\n",
      "\u001b[1m16/16\u001b[0m \u001b[32m━━━━━━━━━━━━━━━━━━━━\u001b[0m\u001b[37m\u001b[0m \u001b[1m0s\u001b[0m 17ms/step - loss: 0.0088 - mse: 0.0088 - val_loss: 0.0141 - val_mse: 0.0141\n",
      "Epoch 7/100\n",
      "\u001b[1m16/16\u001b[0m \u001b[32m━━━━━━━━━━━━━━━━━━━━\u001b[0m\u001b[37m\u001b[0m \u001b[1m0s\u001b[0m 18ms/step - loss: 0.0064 - mse: 0.0064 - val_loss: 0.0123 - val_mse: 0.0123\n",
      "Epoch 8/100\n",
      "\u001b[1m16/16\u001b[0m \u001b[32m━━━━━━━━━━━━━━━━━━━━\u001b[0m\u001b[37m\u001b[0m \u001b[1m0s\u001b[0m 16ms/step - loss: 0.0050 - mse: 0.0050 - val_loss: 0.0124 - val_mse: 0.0124\n",
      "Epoch 9/100\n",
      "\u001b[1m16/16\u001b[0m \u001b[32m━━━━━━━━━━━━━━━━━━━━\u001b[0m\u001b[37m\u001b[0m \u001b[1m0s\u001b[0m 16ms/step - loss: 0.0068 - mse: 0.0068 - val_loss: 0.0125 - val_mse: 0.0125\n",
      "Epoch 10/100\n",
      "\u001b[1m16/16\u001b[0m \u001b[32m━━━━━━━━━━━━━━━━━━━━\u001b[0m\u001b[37m\u001b[0m \u001b[1m0s\u001b[0m 16ms/step - loss: 0.0055 - mse: 0.0055 - val_loss: 0.0137 - val_mse: 0.0137\n",
      "Epoch 11/100\n",
      "\u001b[1m16/16\u001b[0m \u001b[32m━━━━━━━━━━━━━━━━━━━━\u001b[0m\u001b[37m\u001b[0m \u001b[1m0s\u001b[0m 18ms/step - loss: 0.0071 - mse: 0.0071 - val_loss: 0.0139 - val_mse: 0.0139\n",
      "Epoch 12/100\n",
      "\u001b[1m16/16\u001b[0m \u001b[32m━━━━━━━━━━━━━━━━━━━━\u001b[0m\u001b[37m\u001b[0m \u001b[1m0s\u001b[0m 20ms/step - loss: 0.0063 - mse: 0.0063 - val_loss: 0.0122 - val_mse: 0.0122\n",
      "Epoch 13/100\n",
      "\u001b[1m16/16\u001b[0m \u001b[32m━━━━━━━━━━━━━━━━━━━━\u001b[0m\u001b[37m\u001b[0m \u001b[1m0s\u001b[0m 16ms/step - loss: 0.0070 - mse: 0.0070 - val_loss: 0.0121 - val_mse: 0.0121\n",
      "Epoch 14/100\n",
      "\u001b[1m16/16\u001b[0m \u001b[32m━━━━━━━━━━━━━━━━━━━━\u001b[0m\u001b[37m\u001b[0m \u001b[1m0s\u001b[0m 16ms/step - loss: 0.0047 - mse: 0.0047 - val_loss: 0.0120 - val_mse: 0.0120\n",
      "Epoch 15/100\n",
      "\u001b[1m16/16\u001b[0m \u001b[32m━━━━━━━━━━━━━━━━━━━━\u001b[0m\u001b[37m\u001b[0m \u001b[1m0s\u001b[0m 16ms/step - loss: 0.0043 - mse: 0.0043 - val_loss: 0.0134 - val_mse: 0.0134\n",
      "Epoch 16/100\n",
      "\u001b[1m16/16\u001b[0m \u001b[32m━━━━━━━━━━━━━━━━━━━━\u001b[0m\u001b[37m\u001b[0m \u001b[1m0s\u001b[0m 18ms/step - loss: 0.0064 - mse: 0.0064 - val_loss: 0.0122 - val_mse: 0.0122\n",
      "Epoch 17/100\n",
      "\u001b[1m16/16\u001b[0m \u001b[32m━━━━━━━━━━━━━━━━━━━━\u001b[0m\u001b[37m\u001b[0m \u001b[1m0s\u001b[0m 17ms/step - loss: 0.0046 - mse: 0.0046 - val_loss: 0.0124 - val_mse: 0.0124\n",
      "Epoch 18/100\n",
      "\u001b[1m16/16\u001b[0m \u001b[32m━━━━━━━━━━━━━━━━━━━━\u001b[0m\u001b[37m\u001b[0m \u001b[1m0s\u001b[0m 19ms/step - loss: 0.0046 - mse: 0.0046 - val_loss: 0.0121 - val_mse: 0.0121\n",
      "Epoch 19/100\n",
      "\u001b[1m16/16\u001b[0m \u001b[32m━━━━━━━━━━━━━━━━━━━━\u001b[0m\u001b[37m\u001b[0m \u001b[1m0s\u001b[0m 17ms/step - loss: 0.0053 - mse: 0.0053 - val_loss: 0.0155 - val_mse: 0.0155\n",
      "Epoch 20/100\n",
      "\u001b[1m16/16\u001b[0m \u001b[32m━━━━━━━━━━━━━━━━━━━━\u001b[0m\u001b[37m\u001b[0m \u001b[1m0s\u001b[0m 15ms/step - loss: 0.0061 - mse: 0.0061 - val_loss: 0.0117 - val_mse: 0.0117\n",
      "Epoch 21/100\n",
      "\u001b[1m16/16\u001b[0m \u001b[32m━━━━━━━━━━━━━━━━━━━━\u001b[0m\u001b[37m\u001b[0m \u001b[1m0s\u001b[0m 14ms/step - loss: 0.0056 - mse: 0.0056 - val_loss: 0.0118 - val_mse: 0.0118\n",
      "Epoch 22/100\n",
      "\u001b[1m16/16\u001b[0m \u001b[32m━━━━━━━━━━━━━━━━━━━━\u001b[0m\u001b[37m\u001b[0m \u001b[1m0s\u001b[0m 16ms/step - loss: 0.0046 - mse: 0.0046 - val_loss: 0.0116 - val_mse: 0.0116\n",
      "Epoch 23/100\n",
      "\u001b[1m16/16\u001b[0m \u001b[32m━━━━━━━━━━━━━━━━━━━━\u001b[0m\u001b[37m\u001b[0m \u001b[1m0s\u001b[0m 16ms/step - loss: 0.0056 - mse: 0.0056 - val_loss: 0.0117 - val_mse: 0.0117\n",
      "Epoch 24/100\n",
      "\u001b[1m16/16\u001b[0m \u001b[32m━━━━━━━━━━━━━━━━━━━━\u001b[0m\u001b[37m\u001b[0m \u001b[1m0s\u001b[0m 13ms/step - loss: 0.0043 - mse: 0.0043 - val_loss: 0.0114 - val_mse: 0.0114\n",
      "Epoch 25/100\n",
      "\u001b[1m16/16\u001b[0m \u001b[32m━━━━━━━━━━━━━━━━━━━━\u001b[0m\u001b[37m\u001b[0m \u001b[1m0s\u001b[0m 12ms/step - loss: 0.0060 - mse: 0.0060 - val_loss: 0.0113 - val_mse: 0.0113\n",
      "Epoch 26/100\n",
      "\u001b[1m16/16\u001b[0m \u001b[32m━━━━━━━━━━━━━━━━━━━━\u001b[0m\u001b[37m\u001b[0m \u001b[1m0s\u001b[0m 20ms/step - loss: 0.0060 - mse: 0.0060 - val_loss: 0.0158 - val_mse: 0.0158\n",
      "Epoch 27/100\n",
      "\u001b[1m16/16\u001b[0m \u001b[32m━━━━━━━━━━━━━━━━━━━━\u001b[0m\u001b[37m\u001b[0m \u001b[1m0s\u001b[0m 17ms/step - loss: 0.0052 - mse: 0.0052 - val_loss: 0.0116 - val_mse: 0.0116\n",
      "Epoch 28/100\n",
      "\u001b[1m16/16\u001b[0m \u001b[32m━━━━━━━━━━━━━━━━━━━━\u001b[0m\u001b[37m\u001b[0m \u001b[1m0s\u001b[0m 18ms/step - loss: 0.0045 - mse: 0.0045 - val_loss: 0.0113 - val_mse: 0.0113\n",
      "Epoch 29/100\n",
      "\u001b[1m16/16\u001b[0m \u001b[32m━━━━━━━━━━━━━━━━━━━━\u001b[0m\u001b[37m\u001b[0m \u001b[1m0s\u001b[0m 19ms/step - loss: 0.0052 - mse: 0.0052 - val_loss: 0.0111 - val_mse: 0.0111\n",
      "Epoch 30/100\n",
      "\u001b[1m16/16\u001b[0m \u001b[32m━━━━━━━━━━━━━━━━━━━━\u001b[0m\u001b[37m\u001b[0m \u001b[1m0s\u001b[0m 17ms/step - loss: 0.0069 - mse: 0.0069 - val_loss: 0.0158 - val_mse: 0.0158\n",
      "Epoch 31/100\n",
      "\u001b[1m16/16\u001b[0m \u001b[32m━━━━━━━━━━━━━━━━━━━━\u001b[0m\u001b[37m\u001b[0m \u001b[1m0s\u001b[0m 16ms/step - loss: 0.0042 - mse: 0.0042 - val_loss: 0.0118 - val_mse: 0.0118\n",
      "Epoch 32/100\n",
      "\u001b[1m16/16\u001b[0m \u001b[32m━━━━━━━━━━━━━━━━━━━━\u001b[0m\u001b[37m\u001b[0m \u001b[1m0s\u001b[0m 18ms/step - loss: 0.0057 - mse: 0.0057 - val_loss: 0.0107 - val_mse: 0.0107\n",
      "Epoch 33/100\n",
      "\u001b[1m16/16\u001b[0m \u001b[32m━━━━━━━━━━━━━━━━━━━━\u001b[0m\u001b[37m\u001b[0m \u001b[1m0s\u001b[0m 14ms/step - loss: 0.0046 - mse: 0.0046 - val_loss: 0.0110 - val_mse: 0.0110\n",
      "Epoch 34/100\n",
      "\u001b[1m16/16\u001b[0m \u001b[32m━━━━━━━━━━━━━━━━━━━━\u001b[0m\u001b[37m\u001b[0m \u001b[1m0s\u001b[0m 16ms/step - loss: 0.0047 - mse: 0.0047 - val_loss: 0.0109 - val_mse: 0.0109\n",
      "Epoch 35/100\n",
      "\u001b[1m16/16\u001b[0m \u001b[32m━━━━━━━━━━━━━━━━━━━━\u001b[0m\u001b[37m\u001b[0m \u001b[1m0s\u001b[0m 17ms/step - loss: 0.0047 - mse: 0.0047 - val_loss: 0.0102 - val_mse: 0.0102\n",
      "Epoch 36/100\n",
      "\u001b[1m16/16\u001b[0m \u001b[32m━━━━━━━━━━━━━━━━━━━━\u001b[0m\u001b[37m\u001b[0m \u001b[1m0s\u001b[0m 19ms/step - loss: 0.0056 - mse: 0.0056 - val_loss: 0.0114 - val_mse: 0.0114\n",
      "Epoch 37/100\n",
      "\u001b[1m16/16\u001b[0m \u001b[32m━━━━━━━━━━━━━━━━━━━━\u001b[0m\u001b[37m\u001b[0m \u001b[1m0s\u001b[0m 17ms/step - loss: 0.0045 - mse: 0.0045 - val_loss: 0.0099 - val_mse: 0.0099\n",
      "Epoch 38/100\n",
      "\u001b[1m16/16\u001b[0m \u001b[32m━━━━━━━━━━━━━━━━━━━━\u001b[0m\u001b[37m\u001b[0m \u001b[1m0s\u001b[0m 17ms/step - loss: 0.0050 - mse: 0.0050 - val_loss: 0.0096 - val_mse: 0.0096\n",
      "Epoch 39/100\n",
      "\u001b[1m16/16\u001b[0m \u001b[32m━━━━━━━━━━━━━━━━━━━━\u001b[0m\u001b[37m\u001b[0m \u001b[1m0s\u001b[0m 16ms/step - loss: 0.0041 - mse: 0.0041 - val_loss: 0.0094 - val_mse: 0.0094\n",
      "Epoch 40/100\n",
      "\u001b[1m16/16\u001b[0m \u001b[32m━━━━━━━━━━━━━━━━━━━━\u001b[0m\u001b[37m\u001b[0m \u001b[1m0s\u001b[0m 15ms/step - loss: 0.0034 - mse: 0.0034 - val_loss: 0.0096 - val_mse: 0.0096\n",
      "Epoch 41/100\n",
      "\u001b[1m16/16\u001b[0m \u001b[32m━━━━━━━━━━━━━━━━━━━━\u001b[0m\u001b[37m\u001b[0m \u001b[1m0s\u001b[0m 15ms/step - loss: 0.0048 - mse: 0.0048 - val_loss: 0.0099 - val_mse: 0.0099\n",
      "Epoch 42/100\n",
      "\u001b[1m16/16\u001b[0m \u001b[32m━━━━━━━━━━━━━━━━━━━━\u001b[0m\u001b[37m\u001b[0m \u001b[1m0s\u001b[0m 14ms/step - loss: 0.0034 - mse: 0.0034 - val_loss: 0.0089 - val_mse: 0.0089\n",
      "Epoch 43/100\n",
      "\u001b[1m16/16\u001b[0m \u001b[32m━━━━━━━━━━━━━━━━━━━━\u001b[0m\u001b[37m\u001b[0m \u001b[1m0s\u001b[0m 15ms/step - loss: 0.0039 - mse: 0.0039 - val_loss: 0.0086 - val_mse: 0.0086\n",
      "Epoch 44/100\n",
      "\u001b[1m16/16\u001b[0m \u001b[32m━━━━━━━━━━━━━━━━━━━━\u001b[0m\u001b[37m\u001b[0m \u001b[1m0s\u001b[0m 16ms/step - loss: 0.0034 - mse: 0.0034 - val_loss: 0.0086 - val_mse: 0.0086\n",
      "Epoch 45/100\n",
      "\u001b[1m16/16\u001b[0m \u001b[32m━━━━━━━━━━━━━━━━━━━━\u001b[0m\u001b[37m\u001b[0m \u001b[1m0s\u001b[0m 19ms/step - loss: 0.0036 - mse: 0.0036 - val_loss: 0.0077 - val_mse: 0.0077\n",
      "Epoch 46/100\n",
      "\u001b[1m16/16\u001b[0m \u001b[32m━━━━━━━━━━━━━━━━━━━━\u001b[0m\u001b[37m\u001b[0m \u001b[1m0s\u001b[0m 21ms/step - loss: 0.0032 - mse: 0.0032 - val_loss: 0.0076 - val_mse: 0.0076\n",
      "Epoch 47/100\n",
      "\u001b[1m16/16\u001b[0m \u001b[32m━━━━━━━━━━━━━━━━━━━━\u001b[0m\u001b[37m\u001b[0m \u001b[1m0s\u001b[0m 18ms/step - loss: 0.0033 - mse: 0.0033 - val_loss: 0.0069 - val_mse: 0.0069\n",
      "Epoch 48/100\n",
      "\u001b[1m16/16\u001b[0m \u001b[32m━━━━━━━━━━━━━━━━━━━━\u001b[0m\u001b[37m\u001b[0m \u001b[1m0s\u001b[0m 16ms/step - loss: 0.0036 - mse: 0.0036 - val_loss: 0.0067 - val_mse: 0.0067\n",
      "Epoch 49/100\n",
      "\u001b[1m16/16\u001b[0m \u001b[32m━━━━━━━━━━━━━━━━━━━━\u001b[0m\u001b[37m\u001b[0m \u001b[1m0s\u001b[0m 18ms/step - loss: 0.0024 - mse: 0.0024 - val_loss: 0.0108 - val_mse: 0.0108\n",
      "Epoch 50/100\n",
      "\u001b[1m16/16\u001b[0m \u001b[32m━━━━━━━━━━━━━━━━━━━━\u001b[0m\u001b[37m\u001b[0m \u001b[1m0s\u001b[0m 19ms/step - loss: 0.0031 - mse: 0.0031 - val_loss: 0.0058 - val_mse: 0.0058\n",
      "Epoch 51/100\n",
      "\u001b[1m16/16\u001b[0m \u001b[32m━━━━━━━━━━━━━━━━━━━━\u001b[0m\u001b[37m\u001b[0m \u001b[1m0s\u001b[0m 20ms/step - loss: 0.0029 - mse: 0.0029 - val_loss: 0.0055 - val_mse: 0.0055\n",
      "Epoch 52/100\n",
      "\u001b[1m16/16\u001b[0m \u001b[32m━━━━━━━━━━━━━━━━━━━━\u001b[0m\u001b[37m\u001b[0m \u001b[1m0s\u001b[0m 19ms/step - loss: 0.0027 - mse: 0.0027 - val_loss: 0.0052 - val_mse: 0.0052\n",
      "Epoch 53/100\n",
      "\u001b[1m16/16\u001b[0m \u001b[32m━━━━━━━━━━━━━━━━━━━━\u001b[0m\u001b[37m\u001b[0m \u001b[1m0s\u001b[0m 18ms/step - loss: 0.0022 - mse: 0.0022 - val_loss: 0.0050 - val_mse: 0.0050\n",
      "Epoch 54/100\n",
      "\u001b[1m16/16\u001b[0m \u001b[32m━━━━━━━━━━━━━━━━━━━━\u001b[0m\u001b[37m\u001b[0m \u001b[1m0s\u001b[0m 20ms/step - loss: 0.0022 - mse: 0.0022 - val_loss: 0.0030 - val_mse: 0.0030\n",
      "Epoch 55/100\n",
      "\u001b[1m16/16\u001b[0m \u001b[32m━━━━━━━━━━━━━━━━━━━━\u001b[0m\u001b[37m\u001b[0m \u001b[1m0s\u001b[0m 17ms/step - loss: 0.0024 - mse: 0.0024 - val_loss: 0.0033 - val_mse: 0.0033\n",
      "Epoch 56/100\n",
      "\u001b[1m16/16\u001b[0m \u001b[32m━━━━━━━━━━━━━━━━━━━━\u001b[0m\u001b[37m\u001b[0m \u001b[1m0s\u001b[0m 17ms/step - loss: 0.0020 - mse: 0.0020 - val_loss: 0.0027 - val_mse: 0.0027\n",
      "Epoch 57/100\n",
      "\u001b[1m16/16\u001b[0m \u001b[32m━━━━━━━━━━━━━━━━━━━━\u001b[0m\u001b[37m\u001b[0m \u001b[1m0s\u001b[0m 15ms/step - loss: 0.0014 - mse: 0.0014 - val_loss: 0.0035 - val_mse: 0.0035\n",
      "Epoch 58/100\n",
      "\u001b[1m16/16\u001b[0m \u001b[32m━━━━━━━━━━━━━━━━━━━━\u001b[0m\u001b[37m\u001b[0m \u001b[1m0s\u001b[0m 16ms/step - loss: 0.0021 - mse: 0.0021 - val_loss: 0.0034 - val_mse: 0.0034\n",
      "Epoch 59/100\n",
      "\u001b[1m16/16\u001b[0m \u001b[32m━━━━━━━━━━━━━━━━━━━━\u001b[0m\u001b[37m\u001b[0m \u001b[1m0s\u001b[0m 16ms/step - loss: 0.0018 - mse: 0.0018 - val_loss: 0.0015 - val_mse: 0.0015\n",
      "Epoch 60/100\n",
      "\u001b[1m16/16\u001b[0m \u001b[32m━━━━━━━━━━━━━━━━━━━━\u001b[0m\u001b[37m\u001b[0m \u001b[1m0s\u001b[0m 14ms/step - loss: 0.0016 - mse: 0.0016 - val_loss: 0.0026 - val_mse: 0.0026\n",
      "Epoch 61/100\n",
      "\u001b[1m16/16\u001b[0m \u001b[32m━━━━━━━━━━━━━━━━━━━━\u001b[0m\u001b[37m\u001b[0m \u001b[1m0s\u001b[0m 15ms/step - loss: 0.0014 - mse: 0.0014 - val_loss: 0.0011 - val_mse: 0.0011\n",
      "Epoch 62/100\n",
      "\u001b[1m16/16\u001b[0m \u001b[32m━━━━━━━━━━━━━━━━━━━━\u001b[0m\u001b[37m\u001b[0m \u001b[1m0s\u001b[0m 24ms/step - loss: 0.0012 - mse: 0.0012 - val_loss: 0.0012 - val_mse: 0.0012\n",
      "Epoch 63/100\n",
      "\u001b[1m16/16\u001b[0m \u001b[32m━━━━━━━━━━━━━━━━━━━━\u001b[0m\u001b[37m\u001b[0m \u001b[1m0s\u001b[0m 20ms/step - loss: 0.0013 - mse: 0.0013 - val_loss: 0.0022 - val_mse: 0.0022\n",
      "Epoch 64/100\n",
      "\u001b[1m16/16\u001b[0m \u001b[32m━━━━━━━━━━━━━━━━━━━━\u001b[0m\u001b[37m\u001b[0m \u001b[1m0s\u001b[0m 20ms/step - loss: 0.0013 - mse: 0.0013 - val_loss: 0.0016 - val_mse: 0.0016\n",
      "Epoch 65/100\n",
      "\u001b[1m16/16\u001b[0m \u001b[32m━━━━━━━━━━━━━━━━━━━━\u001b[0m\u001b[37m\u001b[0m \u001b[1m0s\u001b[0m 17ms/step - loss: 0.0013 - mse: 0.0013 - val_loss: 0.0021 - val_mse: 0.0021\n",
      "Epoch 66/100\n",
      "\u001b[1m16/16\u001b[0m \u001b[32m━━━━━━━━━━━━━━━━━━━━\u001b[0m\u001b[37m\u001b[0m \u001b[1m0s\u001b[0m 20ms/step - loss: 0.0016 - mse: 0.0016 - val_loss: 8.3047e-04 - val_mse: 8.3047e-04\n",
      "Epoch 67/100\n",
      "\u001b[1m16/16\u001b[0m \u001b[32m━━━━━━━━━━━━━━━━━━━━\u001b[0m\u001b[37m\u001b[0m \u001b[1m0s\u001b[0m 19ms/step - loss: 0.0011 - mse: 0.0011 - val_loss: 0.0016 - val_mse: 0.0016\n",
      "Epoch 68/100\n",
      "\u001b[1m16/16\u001b[0m \u001b[32m━━━━━━━━━━━━━━━━━━━━\u001b[0m\u001b[37m\u001b[0m \u001b[1m0s\u001b[0m 18ms/step - loss: 8.7951e-04 - mse: 8.7951e-04 - val_loss: 0.0057 - val_mse: 0.0057\n",
      "Epoch 69/100\n",
      "\u001b[1m16/16\u001b[0m \u001b[32m━━━━━━━━━━━━━━━━━━━━\u001b[0m\u001b[37m\u001b[0m \u001b[1m0s\u001b[0m 18ms/step - loss: 0.0013 - mse: 0.0013 - val_loss: 0.0022 - val_mse: 0.0022\n",
      "Epoch 70/100\n",
      "\u001b[1m16/16\u001b[0m \u001b[32m━━━━━━━━━━━━━━━━━━━━\u001b[0m\u001b[37m\u001b[0m \u001b[1m0s\u001b[0m 17ms/step - loss: 0.0010 - mse: 0.0010 - val_loss: 0.0013 - val_mse: 0.0013\n",
      "Epoch 71/100\n",
      "\u001b[1m16/16\u001b[0m \u001b[32m━━━━━━━━━━━━━━━━━━━━\u001b[0m\u001b[37m\u001b[0m \u001b[1m0s\u001b[0m 16ms/step - loss: 0.0021 - mse: 0.0021 - val_loss: 0.0013 - val_mse: 0.0013\n",
      "Epoch 72/100\n",
      "\u001b[1m16/16\u001b[0m \u001b[32m━━━━━━━━━━━━━━━━━━━━\u001b[0m\u001b[37m\u001b[0m \u001b[1m0s\u001b[0m 16ms/step - loss: 0.0011 - mse: 0.0011 - val_loss: 6.6922e-04 - val_mse: 6.6922e-04\n",
      "Epoch 73/100\n",
      "\u001b[1m16/16\u001b[0m \u001b[32m━━━━━━━━━━━━━━━━━━━━\u001b[0m\u001b[37m\u001b[0m \u001b[1m0s\u001b[0m 17ms/step - loss: 0.0011 - mse: 0.0011 - val_loss: 0.0082 - val_mse: 0.0082\n",
      "Epoch 74/100\n",
      "\u001b[1m16/16\u001b[0m \u001b[32m━━━━━━━━━━━━━━━━━━━━\u001b[0m\u001b[37m\u001b[0m \u001b[1m0s\u001b[0m 16ms/step - loss: 0.0019 - mse: 0.0019 - val_loss: 0.0021 - val_mse: 0.0021\n",
      "Epoch 75/100\n",
      "\u001b[1m16/16\u001b[0m \u001b[32m━━━━━━━━━━━━━━━━━━━━\u001b[0m\u001b[37m\u001b[0m \u001b[1m0s\u001b[0m 16ms/step - loss: 0.0012 - mse: 0.0012 - val_loss: 7.4931e-04 - val_mse: 7.4931e-04\n",
      "Epoch 76/100\n",
      "\u001b[1m16/16\u001b[0m \u001b[32m━━━━━━━━━━━━━━━━━━━━\u001b[0m\u001b[37m\u001b[0m \u001b[1m0s\u001b[0m 15ms/step - loss: 0.0012 - mse: 0.0012 - val_loss: 0.0036 - val_mse: 0.0036\n",
      "Epoch 77/100\n",
      "\u001b[1m16/16\u001b[0m \u001b[32m━━━━━━━━━━━━━━━━━━━━\u001b[0m\u001b[37m\u001b[0m \u001b[1m0s\u001b[0m 17ms/step - loss: 0.0015 - mse: 0.0015 - val_loss: 0.0030 - val_mse: 0.0030\n",
      "Epoch 78/100\n",
      "\u001b[1m16/16\u001b[0m \u001b[32m━━━━━━━━━━━━━━━━━━━━\u001b[0m\u001b[37m\u001b[0m \u001b[1m0s\u001b[0m 29ms/step - loss: 0.0014 - mse: 0.0014 - val_loss: 0.0011 - val_mse: 0.0011\n",
      "Epoch 79/100\n",
      "\u001b[1m16/16\u001b[0m \u001b[32m━━━━━━━━━━━━━━━━━━━━\u001b[0m\u001b[37m\u001b[0m \u001b[1m1s\u001b[0m 35ms/step - loss: 0.0013 - mse: 0.0013 - val_loss: 0.0012 - val_mse: 0.0012\n",
      "Epoch 80/100\n",
      "\u001b[1m16/16\u001b[0m \u001b[32m━━━━━━━━━━━━━━━━━━━━\u001b[0m\u001b[37m\u001b[0m \u001b[1m1s\u001b[0m 30ms/step - loss: 9.3445e-04 - mse: 9.3445e-04 - val_loss: 6.7765e-04 - val_mse: 6.7765e-04\n",
      "Epoch 81/100\n",
      "\u001b[1m16/16\u001b[0m \u001b[32m━━━━━━━━━━━━━━━━━━━━\u001b[0m\u001b[37m\u001b[0m \u001b[1m1s\u001b[0m 31ms/step - loss: 0.0014 - mse: 0.0014 - val_loss: 0.0016 - val_mse: 0.0016\n",
      "Epoch 82/100\n",
      "\u001b[1m16/16\u001b[0m \u001b[32m━━━━━━━━━━━━━━━━━━━━\u001b[0m\u001b[37m\u001b[0m \u001b[1m1s\u001b[0m 32ms/step - loss: 0.0013 - mse: 0.0013 - val_loss: 7.2848e-04 - val_mse: 7.2848e-04\n",
      "Epoch 83/100\n",
      "\u001b[1m16/16\u001b[0m \u001b[32m━━━━━━━━━━━━━━━━━━━━\u001b[0m\u001b[37m\u001b[0m \u001b[1m1s\u001b[0m 30ms/step - loss: 0.0015 - mse: 0.0015 - val_loss: 9.2661e-04 - val_mse: 9.2661e-04\n",
      "Epoch 84/100\n",
      "\u001b[1m16/16\u001b[0m \u001b[32m━━━━━━━━━━━━━━━━━━━━\u001b[0m\u001b[37m\u001b[0m \u001b[1m1s\u001b[0m 30ms/step - loss: 9.8193e-04 - mse: 9.8193e-04 - val_loss: 9.2841e-04 - val_mse: 9.2841e-04\n",
      "Epoch 85/100\n",
      "\u001b[1m16/16\u001b[0m \u001b[32m━━━━━━━━━━━━━━━━━━━━\u001b[0m\u001b[37m\u001b[0m \u001b[1m1s\u001b[0m 31ms/step - loss: 0.0011 - mse: 0.0011 - val_loss: 0.0011 - val_mse: 0.0011\n",
      "Epoch 86/100\n",
      "\u001b[1m16/16\u001b[0m \u001b[32m━━━━━━━━━━━━━━━━━━━━\u001b[0m\u001b[37m\u001b[0m \u001b[1m1s\u001b[0m 30ms/step - loss: 0.0013 - mse: 0.0013 - val_loss: 0.0046 - val_mse: 0.0046\n",
      "Epoch 87/100\n",
      "\u001b[1m16/16\u001b[0m \u001b[32m━━━━━━━━━━━━━━━━━━━━\u001b[0m\u001b[37m\u001b[0m \u001b[1m1s\u001b[0m 30ms/step - loss: 0.0012 - mse: 0.0012 - val_loss: 0.0023 - val_mse: 0.0023\n",
      "Epoch 88/100\n",
      "\u001b[1m16/16\u001b[0m \u001b[32m━━━━━━━━━━━━━━━━━━━━\u001b[0m\u001b[37m\u001b[0m \u001b[1m1s\u001b[0m 31ms/step - loss: 0.0013 - mse: 0.0013 - val_loss: 0.0025 - val_mse: 0.0025\n",
      "Epoch 89/100\n",
      "\u001b[1m16/16\u001b[0m \u001b[32m━━━━━━━━━━━━━━━━━━━━\u001b[0m\u001b[37m\u001b[0m \u001b[1m1s\u001b[0m 30ms/step - loss: 0.0010 - mse: 0.0010 - val_loss: 7.6241e-04 - val_mse: 7.6241e-04\n",
      "Epoch 90/100\n",
      "\u001b[1m16/16\u001b[0m \u001b[32m━━━━━━━━━━━━━━━━━━━━\u001b[0m\u001b[37m\u001b[0m \u001b[1m1s\u001b[0m 30ms/step - loss: 0.0012 - mse: 0.0012 - val_loss: 6.3279e-04 - val_mse: 6.3279e-04\n",
      "Epoch 91/100\n",
      "\u001b[1m16/16\u001b[0m \u001b[32m━━━━━━━━━━━━━━━━━━━━\u001b[0m\u001b[37m\u001b[0m \u001b[1m1s\u001b[0m 34ms/step - loss: 0.0013 - mse: 0.0013 - val_loss: 6.6111e-04 - val_mse: 6.6111e-04\n",
      "Epoch 92/100\n",
      "\u001b[1m16/16\u001b[0m \u001b[32m━━━━━━━━━━━━━━━━━━━━\u001b[0m\u001b[37m\u001b[0m \u001b[1m1s\u001b[0m 34ms/step - loss: 0.0013 - mse: 0.0013 - val_loss: 0.0013 - val_mse: 0.0013\n",
      "Epoch 93/100\n",
      "\u001b[1m16/16\u001b[0m \u001b[32m━━━━━━━━━━━━━━━━━━━━\u001b[0m\u001b[37m\u001b[0m \u001b[1m1s\u001b[0m 33ms/step - loss: 0.0010 - mse: 0.0010 - val_loss: 5.8011e-04 - val_mse: 5.8011e-04\n",
      "Epoch 94/100\n",
      "\u001b[1m16/16\u001b[0m \u001b[32m━━━━━━━━━━━━━━━━━━━━\u001b[0m\u001b[37m\u001b[0m \u001b[1m1s\u001b[0m 33ms/step - loss: 0.0010 - mse: 0.0010 - val_loss: 6.1934e-04 - val_mse: 6.1934e-04\n",
      "Epoch 95/100\n",
      "\u001b[1m16/16\u001b[0m \u001b[32m━━━━━━━━━━━━━━━━━━━━\u001b[0m\u001b[37m\u001b[0m \u001b[1m1s\u001b[0m 30ms/step - loss: 0.0010 - mse: 0.0010 - val_loss: 6.9748e-04 - val_mse: 6.9748e-04\n",
      "Epoch 96/100\n",
      "\u001b[1m16/16\u001b[0m \u001b[32m━━━━━━━━━━━━━━━━━━━━\u001b[0m\u001b[37m\u001b[0m \u001b[1m1s\u001b[0m 31ms/step - loss: 0.0013 - mse: 0.0013 - val_loss: 8.6081e-04 - val_mse: 8.6081e-04\n",
      "Epoch 97/100\n",
      "\u001b[1m16/16\u001b[0m \u001b[32m━━━━━━━━━━━━━━━━━━━━\u001b[0m\u001b[37m\u001b[0m \u001b[1m1s\u001b[0m 35ms/step - loss: 9.9588e-04 - mse: 9.9588e-04 - val_loss: 6.0579e-04 - val_mse: 6.0579e-04\n",
      "Epoch 98/100\n",
      "\u001b[1m16/16\u001b[0m \u001b[32m━━━━━━━━━━━━━━━━━━━━\u001b[0m\u001b[37m\u001b[0m \u001b[1m1s\u001b[0m 33ms/step - loss: 9.4481e-04 - mse: 9.4481e-04 - val_loss: 0.0022 - val_mse: 0.0022\n",
      "Epoch 99/100\n",
      "\u001b[1m16/16\u001b[0m \u001b[32m━━━━━━━━━━━━━━━━━━━━\u001b[0m\u001b[37m\u001b[0m \u001b[1m1s\u001b[0m 34ms/step - loss: 0.0013 - mse: 0.0013 - val_loss: 8.6246e-04 - val_mse: 8.6246e-04\n",
      "Epoch 100/100\n",
      "\u001b[1m16/16\u001b[0m \u001b[32m━━━━━━━━━━━━━━━━━━━━\u001b[0m\u001b[37m\u001b[0m \u001b[1m1s\u001b[0m 34ms/step - loss: 0.0012 - mse: 0.0012 - val_loss: 6.5677e-04 - val_mse: 6.5677e-04\n",
      "Train Loss: [0.00040419850847683847, 0.00040419850847683847]\n",
      "Test Loss: [0.0006567741511389613, 0.0006567740929313004]\n",
      "\u001b[1m2/2\u001b[0m \u001b[32m━━━━━━━━━━━━━━━━━━━━\u001b[0m\u001b[37m\u001b[0m \u001b[1m2s\u001b[0m 846ms/step\n"
     ]
    },
    {
     "data": {
      "text/plain": [
       "array([[0.54067224],\n",
       "       [0.46302465],\n",
       "       [0.5005238 ],\n",
       "       [0.5647135 ],\n",
       "       [0.78633   ],\n",
       "       [0.39567944],\n",
       "       [0.39717552],\n",
       "       [0.45486706],\n",
       "       [0.47367796],\n",
       "       [0.5528652 ],\n",
       "       [0.5361361 ],\n",
       "       [0.57528204],\n",
       "       [0.56848544],\n",
       "       [0.5053167 ],\n",
       "       [0.56335133],\n",
       "       [0.5970487 ],\n",
       "       [0.87111795],\n",
       "       [0.43453586],\n",
       "       [0.43301582],\n",
       "       [0.49772742],\n",
       "       [0.51196223],\n",
       "       [0.5933951 ],\n",
       "       [0.5795036 ],\n",
       "       [0.63268906],\n",
       "       [0.58161974],\n",
       "       [0.5588273 ],\n",
       "       [0.6056836 ],\n",
       "       [0.64359254],\n",
       "       [0.93223286],\n",
       "       [0.45184103],\n",
       "       [0.4877304 ],\n",
       "       [0.53977144],\n",
       "       [0.56186634],\n",
       "       [0.6166261 ],\n",
       "       [0.63554454],\n",
       "       [0.6819921 ],\n",
       "       [0.634616  ],\n",
       "       [0.6339946 ],\n",
       "       [0.6500522 ],\n",
       "       [0.7144631 ],\n",
       "       [0.9944177 ],\n",
       "       [0.47701254],\n",
       "       [0.4974159 ],\n",
       "       [0.58199817],\n",
       "       [0.59442073],\n",
       "       [0.66499543],\n",
       "       [0.67474556],\n",
       "       [0.69664824],\n",
       "       [0.6702456 ],\n",
       "       [0.6596207 ],\n",
       "       [0.67691934],\n",
       "       [0.7551353 ],\n",
       "       [1.0467515 ]], dtype=float32)"
      ]
     },
     "execution_count": 65,
     "metadata": {},
     "output_type": "execute_result"
    }
   ],
   "source": [
    "# early_stopping = EarlyStopping(monitor='val_loss', patience=10, restore_best_weights=True)\n",
    "# model = build_lstm_model()\n",
    "# history = model.fit(\n",
    "#     X_train_seq, y_train_seq,\n",
    "#     epochs=100,\n",
    "#     batch_size=32,\n",
    "#     validation_split=0.2,\n",
    "#     callbacks=[early_stopping],\n",
    "#     verbose=1\n",
    "# )\n",
    "\n",
    "best_params = study.best_params\n",
    "\n",
    "model = Sequential()\n",
    "for i in range(best_params['n_layers']):\n",
    "    return_seq = (i < best_params['n_layers'] - 1)\n",
    "    if i == 0:\n",
    "        model.add(LSTM(best_params['units'], activation='relu', return_sequences=return_seq, input_shape=(X_train_seq.shape[1], X_train_seq.shape[2])))\n",
    "    else:\n",
    "        model.add(LSTM(best_params['units'], activation='relu', return_sequences=return_seq))\n",
    "    model.add(Dropout(best_params['dropout_rate']))\n",
    "\n",
    "model.add(Dense(units=1, activation='linear'))\n",
    "\n",
    "model.compile(optimizer=Adam(best_params['learning_rate']), loss='mse', metrics=['mse'])\n",
    "\n",
    "model.fit(\n",
    "    X_train_seq, y_train_seq,\n",
    "    validation_data=(X_test_seq, y_test_seq),\n",
    "    epochs=100,\n",
    "    batch_size=16,\n",
    "    # callbacks=[EarlyStopping(monitor='val_loss', mode='min', verbose=1,patience=5, restore_best_weights=True)],\n",
    "    verbose=1\n",
    ")\n",
    "\n",
    "\n",
    "train_loss = model.evaluate(X_train_seq, y_train_seq, verbose=0)\n",
    "test_loss = model.evaluate(X_test_seq, y_test_seq, verbose=0)\n",
    "print(f'Train Loss: {train_loss}')\n",
    "print(f'Test Loss: {test_loss}')\n",
    "\n",
    "# Make predictions\n",
    "predictions = model.predict(X_test_seq)\n",
    "predictions"
   ]
  },
  {
   "cell_type": "code",
   "execution_count": 66,
   "metadata": {},
   "outputs": [
    {
     "data": {
      "image/png": "[encoded data removed]",
      "text/plain": [
       "<Figure size 1000x600 with 1 Axes>"
      ]
     },
     "metadata": {},
     "output_type": "display_data"
    }
   ],
   "source": [
    "y_test_rescaled = scalers[target_column].inverse_transform(y_test.values.reshape(-1, 1))  # For actual values\n",
    "y_pred_rescaled = scalers[target_column].inverse_transform(predictions)\n",
    "y_train_rescaled = scalers[target_column].inverse_transform(y_train.values.reshape(-1, 1))\n",
    "\n",
    "plt.figure(figsize=(10, 6))\n",
    "plt.plot(y_train.index, y_train_rescaled, label=\"Train\")\n",
    "plt.plot(y_test.index, y_test_rescaled, label=\"Test\", color=\"orange\")\n",
    "plt.plot(y_test[seq_length:].index, y_pred_rescaled.flatten(), label=\"Forecast\", linestyle=\"dashed\", color=\"red\")\n",
    "plt.title('Actual vs Predicted Values')\n",
    "plt.xlabel('Time')\n",
    "plt.ylabel('Value')\n",
    "plt.legend()\n",
    "plt.show()\n"
   ]
  },
  {
   "cell_type": "code",
   "execution_count": 67,
   "metadata": {},
   "outputs": [
    {
     "name": "stdout",
     "output_type": "stream",
     "text": [
      "Mean Absolute Percentage Error: 0.036085986998549084\n",
      "Mean Absolute Error: 0.021759582806098812\n",
      "Mean Squared Error: 0.0006567737931278966\n",
      "R2 Score: 0.9607135303187537\n"
     ]
    }
   ],
   "source": [
    "mse = mean_squared_error(y_test[seq_length:], predictions)\n",
    "mae = mean_absolute_error(y_test[seq_length:], predictions)\n",
    "r2 = r2_score(y_test[seq_length:],predictions)\n",
    "mape=mean_absolute_percentage_error(y_test[seq_length:], predictions)\n",
    "\n",
    "print(f\"Mean Absolute Percentage Error: {mape}\")\n",
    "print(f\"Mean Absolute Error: {mae}\")\n",
    "print(f\"Mean Squared Error: {mse}\")\n",
    "print(f\"R2 Score: {r2}\")"
   ]
  },
  {
   "cell_type": "code",
   "execution_count": null,
   "metadata": {},
   "outputs": [],
   "source": []
  }
 ],
 "metadata": {
  "kernelspec": {
   "display_name": "Python 3",
   "language": "python",
   "name": "python3"
  },
  "language_info": {
   "codemirror_mode": {
    "name": "ipython",
    "version": 3
   },
   "file_extension": ".py",
   "mimetype": "text/x-python",
   "name": "python",
   "nbconvert_exporter": "python",
   "pygments_lexer": "ipython3",
   "version": "3.11.9"
  }
 },
 "nbformat": 4,
 "nbformat_minor": 2
}
